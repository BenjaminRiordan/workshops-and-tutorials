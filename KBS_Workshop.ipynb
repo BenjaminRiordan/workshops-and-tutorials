{
  "nbformat": 4,
  "nbformat_minor": 0,
  "metadata": {
    "colab": {
      "provenance": [],
      "toc_visible": true,
      "authorship_tag": "ABX9TyM1bqojSrPBJN+j2vyx1b++",
      "include_colab_link": true
    },
    "kernelspec": {
      "name": "python3",
      "display_name": "Python 3"
    },
    "language_info": {
      "name": "python"
    },
    "widgets": {
      "application/vnd.jupyter.widget-state+json": {
        "e323bd9dee384726aa2c84fd037737eb": {
          "model_module": "@jupyter-widgets/controls",
          "model_name": "HBoxModel",
          "model_module_version": "1.5.0",
          "state": {
            "_dom_classes": [],
            "_model_module": "@jupyter-widgets/controls",
            "_model_module_version": "1.5.0",
            "_model_name": "HBoxModel",
            "_view_count": null,
            "_view_module": "@jupyter-widgets/controls",
            "_view_module_version": "1.5.0",
            "_view_name": "HBoxView",
            "box_style": "",
            "children": [
              "IPY_MODEL_f90b109c54734ade9398eafc4f735884",
              "IPY_MODEL_3f19787ccdca4f4ebeedb1d707cf604a",
              "IPY_MODEL_399b655c107c47bdbc637907aee5a349"
            ],
            "layout": "IPY_MODEL_56866b415e9f4fc3a0397c2f0ed5fddc"
          }
        },
        "f90b109c54734ade9398eafc4f735884": {
          "model_module": "@jupyter-widgets/controls",
          "model_name": "HTMLModel",
          "model_module_version": "1.5.0",
          "state": {
            "_dom_classes": [],
            "_model_module": "@jupyter-widgets/controls",
            "_model_module_version": "1.5.0",
            "_model_name": "HTMLModel",
            "_view_count": null,
            "_view_module": "@jupyter-widgets/controls",
            "_view_module_version": "1.5.0",
            "_view_name": "HTMLView",
            "description": "",
            "description_tooltip": null,
            "layout": "IPY_MODEL_14c2b39ea8374d3ba6d2aa636aeaf2ed",
            "placeholder": "​",
            "style": "IPY_MODEL_0c0917444e61452198f0e4b3ee02efb6",
            "value": "config.json: 100%"
          }
        },
        "3f19787ccdca4f4ebeedb1d707cf604a": {
          "model_module": "@jupyter-widgets/controls",
          "model_name": "FloatProgressModel",
          "model_module_version": "1.5.0",
          "state": {
            "_dom_classes": [],
            "_model_module": "@jupyter-widgets/controls",
            "_model_module_version": "1.5.0",
            "_model_name": "FloatProgressModel",
            "_view_count": null,
            "_view_module": "@jupyter-widgets/controls",
            "_view_module_version": "1.5.0",
            "_view_name": "ProgressView",
            "bar_style": "success",
            "description": "",
            "description_tooltip": null,
            "layout": "IPY_MODEL_a7b3df5b82ac41b2ba876b8927202cf0",
            "max": 1154,
            "min": 0,
            "orientation": "horizontal",
            "style": "IPY_MODEL_9a0c46041fb449fc8022a774f9b92cec",
            "value": 1154
          }
        },
        "399b655c107c47bdbc637907aee5a349": {
          "model_module": "@jupyter-widgets/controls",
          "model_name": "HTMLModel",
          "model_module_version": "1.5.0",
          "state": {
            "_dom_classes": [],
            "_model_module": "@jupyter-widgets/controls",
            "_model_module_version": "1.5.0",
            "_model_name": "HTMLModel",
            "_view_count": null,
            "_view_module": "@jupyter-widgets/controls",
            "_view_module_version": "1.5.0",
            "_view_name": "HTMLView",
            "description": "",
            "description_tooltip": null,
            "layout": "IPY_MODEL_562121b1363d47458dfcc17d100bc70f",
            "placeholder": "​",
            "style": "IPY_MODEL_2e30a9ab38854302969fa03885b8a3d0",
            "value": " 1.15k/1.15k [00:00&lt;00:00, 28.1kB/s]"
          }
        },
        "56866b415e9f4fc3a0397c2f0ed5fddc": {
          "model_module": "@jupyter-widgets/base",
          "model_name": "LayoutModel",
          "model_module_version": "1.2.0",
          "state": {
            "_model_module": "@jupyter-widgets/base",
            "_model_module_version": "1.2.0",
            "_model_name": "LayoutModel",
            "_view_count": null,
            "_view_module": "@jupyter-widgets/base",
            "_view_module_version": "1.2.0",
            "_view_name": "LayoutView",
            "align_content": null,
            "align_items": null,
            "align_self": null,
            "border": null,
            "bottom": null,
            "display": null,
            "flex": null,
            "flex_flow": null,
            "grid_area": null,
            "grid_auto_columns": null,
            "grid_auto_flow": null,
            "grid_auto_rows": null,
            "grid_column": null,
            "grid_gap": null,
            "grid_row": null,
            "grid_template_areas": null,
            "grid_template_columns": null,
            "grid_template_rows": null,
            "height": null,
            "justify_content": null,
            "justify_items": null,
            "left": null,
            "margin": null,
            "max_height": null,
            "max_width": null,
            "min_height": null,
            "min_width": null,
            "object_fit": null,
            "object_position": null,
            "order": null,
            "overflow": null,
            "overflow_x": null,
            "overflow_y": null,
            "padding": null,
            "right": null,
            "top": null,
            "visibility": null,
            "width": null
          }
        },
        "14c2b39ea8374d3ba6d2aa636aeaf2ed": {
          "model_module": "@jupyter-widgets/base",
          "model_name": "LayoutModel",
          "model_module_version": "1.2.0",
          "state": {
            "_model_module": "@jupyter-widgets/base",
            "_model_module_version": "1.2.0",
            "_model_name": "LayoutModel",
            "_view_count": null,
            "_view_module": "@jupyter-widgets/base",
            "_view_module_version": "1.2.0",
            "_view_name": "LayoutView",
            "align_content": null,
            "align_items": null,
            "align_self": null,
            "border": null,
            "bottom": null,
            "display": null,
            "flex": null,
            "flex_flow": null,
            "grid_area": null,
            "grid_auto_columns": null,
            "grid_auto_flow": null,
            "grid_auto_rows": null,
            "grid_column": null,
            "grid_gap": null,
            "grid_row": null,
            "grid_template_areas": null,
            "grid_template_columns": null,
            "grid_template_rows": null,
            "height": null,
            "justify_content": null,
            "justify_items": null,
            "left": null,
            "margin": null,
            "max_height": null,
            "max_width": null,
            "min_height": null,
            "min_width": null,
            "object_fit": null,
            "object_position": null,
            "order": null,
            "overflow": null,
            "overflow_x": null,
            "overflow_y": null,
            "padding": null,
            "right": null,
            "top": null,
            "visibility": null,
            "width": null
          }
        },
        "0c0917444e61452198f0e4b3ee02efb6": {
          "model_module": "@jupyter-widgets/controls",
          "model_name": "DescriptionStyleModel",
          "model_module_version": "1.5.0",
          "state": {
            "_model_module": "@jupyter-widgets/controls",
            "_model_module_version": "1.5.0",
            "_model_name": "DescriptionStyleModel",
            "_view_count": null,
            "_view_module": "@jupyter-widgets/base",
            "_view_module_version": "1.2.0",
            "_view_name": "StyleView",
            "description_width": ""
          }
        },
        "a7b3df5b82ac41b2ba876b8927202cf0": {
          "model_module": "@jupyter-widgets/base",
          "model_name": "LayoutModel",
          "model_module_version": "1.2.0",
          "state": {
            "_model_module": "@jupyter-widgets/base",
            "_model_module_version": "1.2.0",
            "_model_name": "LayoutModel",
            "_view_count": null,
            "_view_module": "@jupyter-widgets/base",
            "_view_module_version": "1.2.0",
            "_view_name": "LayoutView",
            "align_content": null,
            "align_items": null,
            "align_self": null,
            "border": null,
            "bottom": null,
            "display": null,
            "flex": null,
            "flex_flow": null,
            "grid_area": null,
            "grid_auto_columns": null,
            "grid_auto_flow": null,
            "grid_auto_rows": null,
            "grid_column": null,
            "grid_gap": null,
            "grid_row": null,
            "grid_template_areas": null,
            "grid_template_columns": null,
            "grid_template_rows": null,
            "height": null,
            "justify_content": null,
            "justify_items": null,
            "left": null,
            "margin": null,
            "max_height": null,
            "max_width": null,
            "min_height": null,
            "min_width": null,
            "object_fit": null,
            "object_position": null,
            "order": null,
            "overflow": null,
            "overflow_x": null,
            "overflow_y": null,
            "padding": null,
            "right": null,
            "top": null,
            "visibility": null,
            "width": null
          }
        },
        "9a0c46041fb449fc8022a774f9b92cec": {
          "model_module": "@jupyter-widgets/controls",
          "model_name": "ProgressStyleModel",
          "model_module_version": "1.5.0",
          "state": {
            "_model_module": "@jupyter-widgets/controls",
            "_model_module_version": "1.5.0",
            "_model_name": "ProgressStyleModel",
            "_view_count": null,
            "_view_module": "@jupyter-widgets/base",
            "_view_module_version": "1.2.0",
            "_view_name": "StyleView",
            "bar_color": null,
            "description_width": ""
          }
        },
        "562121b1363d47458dfcc17d100bc70f": {
          "model_module": "@jupyter-widgets/base",
          "model_name": "LayoutModel",
          "model_module_version": "1.2.0",
          "state": {
            "_model_module": "@jupyter-widgets/base",
            "_model_module_version": "1.2.0",
            "_model_name": "LayoutModel",
            "_view_count": null,
            "_view_module": "@jupyter-widgets/base",
            "_view_module_version": "1.2.0",
            "_view_name": "LayoutView",
            "align_content": null,
            "align_items": null,
            "align_self": null,
            "border": null,
            "bottom": null,
            "display": null,
            "flex": null,
            "flex_flow": null,
            "grid_area": null,
            "grid_auto_columns": null,
            "grid_auto_flow": null,
            "grid_auto_rows": null,
            "grid_column": null,
            "grid_gap": null,
            "grid_row": null,
            "grid_template_areas": null,
            "grid_template_columns": null,
            "grid_template_rows": null,
            "height": null,
            "justify_content": null,
            "justify_items": null,
            "left": null,
            "margin": null,
            "max_height": null,
            "max_width": null,
            "min_height": null,
            "min_width": null,
            "object_fit": null,
            "object_position": null,
            "order": null,
            "overflow": null,
            "overflow_x": null,
            "overflow_y": null,
            "padding": null,
            "right": null,
            "top": null,
            "visibility": null,
            "width": null
          }
        },
        "2e30a9ab38854302969fa03885b8a3d0": {
          "model_module": "@jupyter-widgets/controls",
          "model_name": "DescriptionStyleModel",
          "model_module_version": "1.5.0",
          "state": {
            "_model_module": "@jupyter-widgets/controls",
            "_model_module_version": "1.5.0",
            "_model_name": "DescriptionStyleModel",
            "_view_count": null,
            "_view_module": "@jupyter-widgets/base",
            "_view_module_version": "1.2.0",
            "_view_name": "StyleView",
            "description_width": ""
          }
        },
        "ff48d0b0b3844b0bb6ed76c80731bbe3": {
          "model_module": "@jupyter-widgets/controls",
          "model_name": "HBoxModel",
          "model_module_version": "1.5.0",
          "state": {
            "_dom_classes": [],
            "_model_module": "@jupyter-widgets/controls",
            "_model_module_version": "1.5.0",
            "_model_name": "HBoxModel",
            "_view_count": null,
            "_view_module": "@jupyter-widgets/controls",
            "_view_module_version": "1.5.0",
            "_view_name": "HBoxView",
            "box_style": "",
            "children": [
              "IPY_MODEL_be577270ae8e477e94a390f187b24940",
              "IPY_MODEL_2fa8368164f44f0dbf715074e2ecfcd7",
              "IPY_MODEL_bed76f6952244a0bb7173048cdafd8ae"
            ],
            "layout": "IPY_MODEL_0bd84390e076440299075e252d05b082"
          }
        },
        "be577270ae8e477e94a390f187b24940": {
          "model_module": "@jupyter-widgets/controls",
          "model_name": "HTMLModel",
          "model_module_version": "1.5.0",
          "state": {
            "_dom_classes": [],
            "_model_module": "@jupyter-widgets/controls",
            "_model_module_version": "1.5.0",
            "_model_name": "HTMLModel",
            "_view_count": null,
            "_view_module": "@jupyter-widgets/controls",
            "_view_module_version": "1.5.0",
            "_view_name": "HTMLView",
            "description": "",
            "description_tooltip": null,
            "layout": "IPY_MODEL_d99f6be6601b4620ba8f3d0c195728cc",
            "placeholder": "​",
            "style": "IPY_MODEL_7b61e75e85a546acb31913e63726250d",
            "value": "model.safetensors: 100%"
          }
        },
        "2fa8368164f44f0dbf715074e2ecfcd7": {
          "model_module": "@jupyter-widgets/controls",
          "model_name": "FloatProgressModel",
          "model_module_version": "1.5.0",
          "state": {
            "_dom_classes": [],
            "_model_module": "@jupyter-widgets/controls",
            "_model_module_version": "1.5.0",
            "_model_name": "FloatProgressModel",
            "_view_count": null,
            "_view_module": "@jupyter-widgets/controls",
            "_view_module_version": "1.5.0",
            "_view_name": "ProgressView",
            "bar_style": "success",
            "description": "",
            "description_tooltip": null,
            "layout": "IPY_MODEL_6cccb2e583664b58adaa3d0e1ca30fc8",
            "max": 1629437147,
            "min": 0,
            "orientation": "horizontal",
            "style": "IPY_MODEL_e793145b7eb24fdebb3afc8bf33f43c6",
            "value": 1629437147
          }
        },
        "bed76f6952244a0bb7173048cdafd8ae": {
          "model_module": "@jupyter-widgets/controls",
          "model_name": "HTMLModel",
          "model_module_version": "1.5.0",
          "state": {
            "_dom_classes": [],
            "_model_module": "@jupyter-widgets/controls",
            "_model_module_version": "1.5.0",
            "_model_name": "HTMLModel",
            "_view_count": null,
            "_view_module": "@jupyter-widgets/controls",
            "_view_module_version": "1.5.0",
            "_view_name": "HTMLView",
            "description": "",
            "description_tooltip": null,
            "layout": "IPY_MODEL_17d982a4291e4c2d8d81ad5a7cd3b4cf",
            "placeholder": "​",
            "style": "IPY_MODEL_402feaaa455247aa9baa91724ce979ab",
            "value": " 1.63G/1.63G [00:14&lt;00:00, 170MB/s]"
          }
        },
        "0bd84390e076440299075e252d05b082": {
          "model_module": "@jupyter-widgets/base",
          "model_name": "LayoutModel",
          "model_module_version": "1.2.0",
          "state": {
            "_model_module": "@jupyter-widgets/base",
            "_model_module_version": "1.2.0",
            "_model_name": "LayoutModel",
            "_view_count": null,
            "_view_module": "@jupyter-widgets/base",
            "_view_module_version": "1.2.0",
            "_view_name": "LayoutView",
            "align_content": null,
            "align_items": null,
            "align_self": null,
            "border": null,
            "bottom": null,
            "display": null,
            "flex": null,
            "flex_flow": null,
            "grid_area": null,
            "grid_auto_columns": null,
            "grid_auto_flow": null,
            "grid_auto_rows": null,
            "grid_column": null,
            "grid_gap": null,
            "grid_row": null,
            "grid_template_areas": null,
            "grid_template_columns": null,
            "grid_template_rows": null,
            "height": null,
            "justify_content": null,
            "justify_items": null,
            "left": null,
            "margin": null,
            "max_height": null,
            "max_width": null,
            "min_height": null,
            "min_width": null,
            "object_fit": null,
            "object_position": null,
            "order": null,
            "overflow": null,
            "overflow_x": null,
            "overflow_y": null,
            "padding": null,
            "right": null,
            "top": null,
            "visibility": null,
            "width": null
          }
        },
        "d99f6be6601b4620ba8f3d0c195728cc": {
          "model_module": "@jupyter-widgets/base",
          "model_name": "LayoutModel",
          "model_module_version": "1.2.0",
          "state": {
            "_model_module": "@jupyter-widgets/base",
            "_model_module_version": "1.2.0",
            "_model_name": "LayoutModel",
            "_view_count": null,
            "_view_module": "@jupyter-widgets/base",
            "_view_module_version": "1.2.0",
            "_view_name": "LayoutView",
            "align_content": null,
            "align_items": null,
            "align_self": null,
            "border": null,
            "bottom": null,
            "display": null,
            "flex": null,
            "flex_flow": null,
            "grid_area": null,
            "grid_auto_columns": null,
            "grid_auto_flow": null,
            "grid_auto_rows": null,
            "grid_column": null,
            "grid_gap": null,
            "grid_row": null,
            "grid_template_areas": null,
            "grid_template_columns": null,
            "grid_template_rows": null,
            "height": null,
            "justify_content": null,
            "justify_items": null,
            "left": null,
            "margin": null,
            "max_height": null,
            "max_width": null,
            "min_height": null,
            "min_width": null,
            "object_fit": null,
            "object_position": null,
            "order": null,
            "overflow": null,
            "overflow_x": null,
            "overflow_y": null,
            "padding": null,
            "right": null,
            "top": null,
            "visibility": null,
            "width": null
          }
        },
        "7b61e75e85a546acb31913e63726250d": {
          "model_module": "@jupyter-widgets/controls",
          "model_name": "DescriptionStyleModel",
          "model_module_version": "1.5.0",
          "state": {
            "_model_module": "@jupyter-widgets/controls",
            "_model_module_version": "1.5.0",
            "_model_name": "DescriptionStyleModel",
            "_view_count": null,
            "_view_module": "@jupyter-widgets/base",
            "_view_module_version": "1.2.0",
            "_view_name": "StyleView",
            "description_width": ""
          }
        },
        "6cccb2e583664b58adaa3d0e1ca30fc8": {
          "model_module": "@jupyter-widgets/base",
          "model_name": "LayoutModel",
          "model_module_version": "1.2.0",
          "state": {
            "_model_module": "@jupyter-widgets/base",
            "_model_module_version": "1.2.0",
            "_model_name": "LayoutModel",
            "_view_count": null,
            "_view_module": "@jupyter-widgets/base",
            "_view_module_version": "1.2.0",
            "_view_name": "LayoutView",
            "align_content": null,
            "align_items": null,
            "align_self": null,
            "border": null,
            "bottom": null,
            "display": null,
            "flex": null,
            "flex_flow": null,
            "grid_area": null,
            "grid_auto_columns": null,
            "grid_auto_flow": null,
            "grid_auto_rows": null,
            "grid_column": null,
            "grid_gap": null,
            "grid_row": null,
            "grid_template_areas": null,
            "grid_template_columns": null,
            "grid_template_rows": null,
            "height": null,
            "justify_content": null,
            "justify_items": null,
            "left": null,
            "margin": null,
            "max_height": null,
            "max_width": null,
            "min_height": null,
            "min_width": null,
            "object_fit": null,
            "object_position": null,
            "order": null,
            "overflow": null,
            "overflow_x": null,
            "overflow_y": null,
            "padding": null,
            "right": null,
            "top": null,
            "visibility": null,
            "width": null
          }
        },
        "e793145b7eb24fdebb3afc8bf33f43c6": {
          "model_module": "@jupyter-widgets/controls",
          "model_name": "ProgressStyleModel",
          "model_module_version": "1.5.0",
          "state": {
            "_model_module": "@jupyter-widgets/controls",
            "_model_module_version": "1.5.0",
            "_model_name": "ProgressStyleModel",
            "_view_count": null,
            "_view_module": "@jupyter-widgets/base",
            "_view_module_version": "1.2.0",
            "_view_name": "StyleView",
            "bar_color": null,
            "description_width": ""
          }
        },
        "17d982a4291e4c2d8d81ad5a7cd3b4cf": {
          "model_module": "@jupyter-widgets/base",
          "model_name": "LayoutModel",
          "model_module_version": "1.2.0",
          "state": {
            "_model_module": "@jupyter-widgets/base",
            "_model_module_version": "1.2.0",
            "_model_name": "LayoutModel",
            "_view_count": null,
            "_view_module": "@jupyter-widgets/base",
            "_view_module_version": "1.2.0",
            "_view_name": "LayoutView",
            "align_content": null,
            "align_items": null,
            "align_self": null,
            "border": null,
            "bottom": null,
            "display": null,
            "flex": null,
            "flex_flow": null,
            "grid_area": null,
            "grid_auto_columns": null,
            "grid_auto_flow": null,
            "grid_auto_rows": null,
            "grid_column": null,
            "grid_gap": null,
            "grid_row": null,
            "grid_template_areas": null,
            "grid_template_columns": null,
            "grid_template_rows": null,
            "height": null,
            "justify_content": null,
            "justify_items": null,
            "left": null,
            "margin": null,
            "max_height": null,
            "max_width": null,
            "min_height": null,
            "min_width": null,
            "object_fit": null,
            "object_position": null,
            "order": null,
            "overflow": null,
            "overflow_x": null,
            "overflow_y": null,
            "padding": null,
            "right": null,
            "top": null,
            "visibility": null,
            "width": null
          }
        },
        "402feaaa455247aa9baa91724ce979ab": {
          "model_module": "@jupyter-widgets/controls",
          "model_name": "DescriptionStyleModel",
          "model_module_version": "1.5.0",
          "state": {
            "_model_module": "@jupyter-widgets/controls",
            "_model_module_version": "1.5.0",
            "_model_name": "DescriptionStyleModel",
            "_view_count": null,
            "_view_module": "@jupyter-widgets/base",
            "_view_module_version": "1.2.0",
            "_view_name": "StyleView",
            "description_width": ""
          }
        },
        "e14b992e71c74a78871c63607509d200": {
          "model_module": "@jupyter-widgets/controls",
          "model_name": "HBoxModel",
          "model_module_version": "1.5.0",
          "state": {
            "_dom_classes": [],
            "_model_module": "@jupyter-widgets/controls",
            "_model_module_version": "1.5.0",
            "_model_name": "HBoxModel",
            "_view_count": null,
            "_view_module": "@jupyter-widgets/controls",
            "_view_module_version": "1.5.0",
            "_view_name": "HBoxView",
            "box_style": "",
            "children": [
              "IPY_MODEL_23166fe07c1c470f9354b98b4460ee5d",
              "IPY_MODEL_1134e62787c74095b7d48ef05d50e9a7",
              "IPY_MODEL_f48f3ef80b3440f284441bb89c902fe7"
            ],
            "layout": "IPY_MODEL_11638f2aeb3d4ffdad791c1edcceeb55"
          }
        },
        "23166fe07c1c470f9354b98b4460ee5d": {
          "model_module": "@jupyter-widgets/controls",
          "model_name": "HTMLModel",
          "model_module_version": "1.5.0",
          "state": {
            "_dom_classes": [],
            "_model_module": "@jupyter-widgets/controls",
            "_model_module_version": "1.5.0",
            "_model_name": "HTMLModel",
            "_view_count": null,
            "_view_module": "@jupyter-widgets/controls",
            "_view_module_version": "1.5.0",
            "_view_name": "HTMLView",
            "description": "",
            "description_tooltip": null,
            "layout": "IPY_MODEL_eb0e63bd4ef34e7a8284697069312f76",
            "placeholder": "​",
            "style": "IPY_MODEL_598a8602a6394f5e99044f582c3b5d46",
            "value": "tokenizer_config.json: 100%"
          }
        },
        "1134e62787c74095b7d48ef05d50e9a7": {
          "model_module": "@jupyter-widgets/controls",
          "model_name": "FloatProgressModel",
          "model_module_version": "1.5.0",
          "state": {
            "_dom_classes": [],
            "_model_module": "@jupyter-widgets/controls",
            "_model_module_version": "1.5.0",
            "_model_name": "FloatProgressModel",
            "_view_count": null,
            "_view_module": "@jupyter-widgets/controls",
            "_view_module_version": "1.5.0",
            "_view_name": "ProgressView",
            "bar_style": "success",
            "description": "",
            "description_tooltip": null,
            "layout": "IPY_MODEL_ae9bc9794895417bb68655914836f414",
            "max": 26,
            "min": 0,
            "orientation": "horizontal",
            "style": "IPY_MODEL_2cdac0368b524e35a99c236c854a4834",
            "value": 26
          }
        },
        "f48f3ef80b3440f284441bb89c902fe7": {
          "model_module": "@jupyter-widgets/controls",
          "model_name": "HTMLModel",
          "model_module_version": "1.5.0",
          "state": {
            "_dom_classes": [],
            "_model_module": "@jupyter-widgets/controls",
            "_model_module_version": "1.5.0",
            "_model_name": "HTMLModel",
            "_view_count": null,
            "_view_module": "@jupyter-widgets/controls",
            "_view_module_version": "1.5.0",
            "_view_name": "HTMLView",
            "description": "",
            "description_tooltip": null,
            "layout": "IPY_MODEL_ca5cc300b65d433ebf54780d11fb75f4",
            "placeholder": "​",
            "style": "IPY_MODEL_733928fd936448d5991b3c9ead000c9b",
            "value": " 26.0/26.0 [00:00&lt;00:00, 1.18kB/s]"
          }
        },
        "11638f2aeb3d4ffdad791c1edcceeb55": {
          "model_module": "@jupyter-widgets/base",
          "model_name": "LayoutModel",
          "model_module_version": "1.2.0",
          "state": {
            "_model_module": "@jupyter-widgets/base",
            "_model_module_version": "1.2.0",
            "_model_name": "LayoutModel",
            "_view_count": null,
            "_view_module": "@jupyter-widgets/base",
            "_view_module_version": "1.2.0",
            "_view_name": "LayoutView",
            "align_content": null,
            "align_items": null,
            "align_self": null,
            "border": null,
            "bottom": null,
            "display": null,
            "flex": null,
            "flex_flow": null,
            "grid_area": null,
            "grid_auto_columns": null,
            "grid_auto_flow": null,
            "grid_auto_rows": null,
            "grid_column": null,
            "grid_gap": null,
            "grid_row": null,
            "grid_template_areas": null,
            "grid_template_columns": null,
            "grid_template_rows": null,
            "height": null,
            "justify_content": null,
            "justify_items": null,
            "left": null,
            "margin": null,
            "max_height": null,
            "max_width": null,
            "min_height": null,
            "min_width": null,
            "object_fit": null,
            "object_position": null,
            "order": null,
            "overflow": null,
            "overflow_x": null,
            "overflow_y": null,
            "padding": null,
            "right": null,
            "top": null,
            "visibility": null,
            "width": null
          }
        },
        "eb0e63bd4ef34e7a8284697069312f76": {
          "model_module": "@jupyter-widgets/base",
          "model_name": "LayoutModel",
          "model_module_version": "1.2.0",
          "state": {
            "_model_module": "@jupyter-widgets/base",
            "_model_module_version": "1.2.0",
            "_model_name": "LayoutModel",
            "_view_count": null,
            "_view_module": "@jupyter-widgets/base",
            "_view_module_version": "1.2.0",
            "_view_name": "LayoutView",
            "align_content": null,
            "align_items": null,
            "align_self": null,
            "border": null,
            "bottom": null,
            "display": null,
            "flex": null,
            "flex_flow": null,
            "grid_area": null,
            "grid_auto_columns": null,
            "grid_auto_flow": null,
            "grid_auto_rows": null,
            "grid_column": null,
            "grid_gap": null,
            "grid_row": null,
            "grid_template_areas": null,
            "grid_template_columns": null,
            "grid_template_rows": null,
            "height": null,
            "justify_content": null,
            "justify_items": null,
            "left": null,
            "margin": null,
            "max_height": null,
            "max_width": null,
            "min_height": null,
            "min_width": null,
            "object_fit": null,
            "object_position": null,
            "order": null,
            "overflow": null,
            "overflow_x": null,
            "overflow_y": null,
            "padding": null,
            "right": null,
            "top": null,
            "visibility": null,
            "width": null
          }
        },
        "598a8602a6394f5e99044f582c3b5d46": {
          "model_module": "@jupyter-widgets/controls",
          "model_name": "DescriptionStyleModel",
          "model_module_version": "1.5.0",
          "state": {
            "_model_module": "@jupyter-widgets/controls",
            "_model_module_version": "1.5.0",
            "_model_name": "DescriptionStyleModel",
            "_view_count": null,
            "_view_module": "@jupyter-widgets/base",
            "_view_module_version": "1.2.0",
            "_view_name": "StyleView",
            "description_width": ""
          }
        },
        "ae9bc9794895417bb68655914836f414": {
          "model_module": "@jupyter-widgets/base",
          "model_name": "LayoutModel",
          "model_module_version": "1.2.0",
          "state": {
            "_model_module": "@jupyter-widgets/base",
            "_model_module_version": "1.2.0",
            "_model_name": "LayoutModel",
            "_view_count": null,
            "_view_module": "@jupyter-widgets/base",
            "_view_module_version": "1.2.0",
            "_view_name": "LayoutView",
            "align_content": null,
            "align_items": null,
            "align_self": null,
            "border": null,
            "bottom": null,
            "display": null,
            "flex": null,
            "flex_flow": null,
            "grid_area": null,
            "grid_auto_columns": null,
            "grid_auto_flow": null,
            "grid_auto_rows": null,
            "grid_column": null,
            "grid_gap": null,
            "grid_row": null,
            "grid_template_areas": null,
            "grid_template_columns": null,
            "grid_template_rows": null,
            "height": null,
            "justify_content": null,
            "justify_items": null,
            "left": null,
            "margin": null,
            "max_height": null,
            "max_width": null,
            "min_height": null,
            "min_width": null,
            "object_fit": null,
            "object_position": null,
            "order": null,
            "overflow": null,
            "overflow_x": null,
            "overflow_y": null,
            "padding": null,
            "right": null,
            "top": null,
            "visibility": null,
            "width": null
          }
        },
        "2cdac0368b524e35a99c236c854a4834": {
          "model_module": "@jupyter-widgets/controls",
          "model_name": "ProgressStyleModel",
          "model_module_version": "1.5.0",
          "state": {
            "_model_module": "@jupyter-widgets/controls",
            "_model_module_version": "1.5.0",
            "_model_name": "ProgressStyleModel",
            "_view_count": null,
            "_view_module": "@jupyter-widgets/base",
            "_view_module_version": "1.2.0",
            "_view_name": "StyleView",
            "bar_color": null,
            "description_width": ""
          }
        },
        "ca5cc300b65d433ebf54780d11fb75f4": {
          "model_module": "@jupyter-widgets/base",
          "model_name": "LayoutModel",
          "model_module_version": "1.2.0",
          "state": {
            "_model_module": "@jupyter-widgets/base",
            "_model_module_version": "1.2.0",
            "_model_name": "LayoutModel",
            "_view_count": null,
            "_view_module": "@jupyter-widgets/base",
            "_view_module_version": "1.2.0",
            "_view_name": "LayoutView",
            "align_content": null,
            "align_items": null,
            "align_self": null,
            "border": null,
            "bottom": null,
            "display": null,
            "flex": null,
            "flex_flow": null,
            "grid_area": null,
            "grid_auto_columns": null,
            "grid_auto_flow": null,
            "grid_auto_rows": null,
            "grid_column": null,
            "grid_gap": null,
            "grid_row": null,
            "grid_template_areas": null,
            "grid_template_columns": null,
            "grid_template_rows": null,
            "height": null,
            "justify_content": null,
            "justify_items": null,
            "left": null,
            "margin": null,
            "max_height": null,
            "max_width": null,
            "min_height": null,
            "min_width": null,
            "object_fit": null,
            "object_position": null,
            "order": null,
            "overflow": null,
            "overflow_x": null,
            "overflow_y": null,
            "padding": null,
            "right": null,
            "top": null,
            "visibility": null,
            "width": null
          }
        },
        "733928fd936448d5991b3c9ead000c9b": {
          "model_module": "@jupyter-widgets/controls",
          "model_name": "DescriptionStyleModel",
          "model_module_version": "1.5.0",
          "state": {
            "_model_module": "@jupyter-widgets/controls",
            "_model_module_version": "1.5.0",
            "_model_name": "DescriptionStyleModel",
            "_view_count": null,
            "_view_module": "@jupyter-widgets/base",
            "_view_module_version": "1.2.0",
            "_view_name": "StyleView",
            "description_width": ""
          }
        },
        "e187f717e6de45eba62a771546603699": {
          "model_module": "@jupyter-widgets/controls",
          "model_name": "HBoxModel",
          "model_module_version": "1.5.0",
          "state": {
            "_dom_classes": [],
            "_model_module": "@jupyter-widgets/controls",
            "_model_module_version": "1.5.0",
            "_model_name": "HBoxModel",
            "_view_count": null,
            "_view_module": "@jupyter-widgets/controls",
            "_view_module_version": "1.5.0",
            "_view_name": "HBoxView",
            "box_style": "",
            "children": [
              "IPY_MODEL_0478ca8247fb495e9d19b11c77bcc698",
              "IPY_MODEL_586e3e8dba594142b720baeb983801c6",
              "IPY_MODEL_287cd457b9f94db08e9e935393139f5c"
            ],
            "layout": "IPY_MODEL_dfdf03eb090646f2afcfd130db50aab8"
          }
        },
        "0478ca8247fb495e9d19b11c77bcc698": {
          "model_module": "@jupyter-widgets/controls",
          "model_name": "HTMLModel",
          "model_module_version": "1.5.0",
          "state": {
            "_dom_classes": [],
            "_model_module": "@jupyter-widgets/controls",
            "_model_module_version": "1.5.0",
            "_model_name": "HTMLModel",
            "_view_count": null,
            "_view_module": "@jupyter-widgets/controls",
            "_view_module_version": "1.5.0",
            "_view_name": "HTMLView",
            "description": "",
            "description_tooltip": null,
            "layout": "IPY_MODEL_ebd6e4c968134d0ba86741c5645bd24b",
            "placeholder": "​",
            "style": "IPY_MODEL_f72e5797e5184204a2097fe25853fd35",
            "value": "vocab.json: 100%"
          }
        },
        "586e3e8dba594142b720baeb983801c6": {
          "model_module": "@jupyter-widgets/controls",
          "model_name": "FloatProgressModel",
          "model_module_version": "1.5.0",
          "state": {
            "_dom_classes": [],
            "_model_module": "@jupyter-widgets/controls",
            "_model_module_version": "1.5.0",
            "_model_name": "FloatProgressModel",
            "_view_count": null,
            "_view_module": "@jupyter-widgets/controls",
            "_view_module_version": "1.5.0",
            "_view_name": "ProgressView",
            "bar_style": "success",
            "description": "",
            "description_tooltip": null,
            "layout": "IPY_MODEL_658e3164088c4fb5afb9966372702231",
            "max": 898822,
            "min": 0,
            "orientation": "horizontal",
            "style": "IPY_MODEL_133067d3a72d4ba9bfe3d0902e3debf9",
            "value": 898822
          }
        },
        "287cd457b9f94db08e9e935393139f5c": {
          "model_module": "@jupyter-widgets/controls",
          "model_name": "HTMLModel",
          "model_module_version": "1.5.0",
          "state": {
            "_dom_classes": [],
            "_model_module": "@jupyter-widgets/controls",
            "_model_module_version": "1.5.0",
            "_model_name": "HTMLModel",
            "_view_count": null,
            "_view_module": "@jupyter-widgets/controls",
            "_view_module_version": "1.5.0",
            "_view_name": "HTMLView",
            "description": "",
            "description_tooltip": null,
            "layout": "IPY_MODEL_a3b2aec865074976b281389909e56bf8",
            "placeholder": "​",
            "style": "IPY_MODEL_248563ca55b74eb38964b65e4151d013",
            "value": " 899k/899k [00:00&lt;00:00, 7.24MB/s]"
          }
        },
        "dfdf03eb090646f2afcfd130db50aab8": {
          "model_module": "@jupyter-widgets/base",
          "model_name": "LayoutModel",
          "model_module_version": "1.2.0",
          "state": {
            "_model_module": "@jupyter-widgets/base",
            "_model_module_version": "1.2.0",
            "_model_name": "LayoutModel",
            "_view_count": null,
            "_view_module": "@jupyter-widgets/base",
            "_view_module_version": "1.2.0",
            "_view_name": "LayoutView",
            "align_content": null,
            "align_items": null,
            "align_self": null,
            "border": null,
            "bottom": null,
            "display": null,
            "flex": null,
            "flex_flow": null,
            "grid_area": null,
            "grid_auto_columns": null,
            "grid_auto_flow": null,
            "grid_auto_rows": null,
            "grid_column": null,
            "grid_gap": null,
            "grid_row": null,
            "grid_template_areas": null,
            "grid_template_columns": null,
            "grid_template_rows": null,
            "height": null,
            "justify_content": null,
            "justify_items": null,
            "left": null,
            "margin": null,
            "max_height": null,
            "max_width": null,
            "min_height": null,
            "min_width": null,
            "object_fit": null,
            "object_position": null,
            "order": null,
            "overflow": null,
            "overflow_x": null,
            "overflow_y": null,
            "padding": null,
            "right": null,
            "top": null,
            "visibility": null,
            "width": null
          }
        },
        "ebd6e4c968134d0ba86741c5645bd24b": {
          "model_module": "@jupyter-widgets/base",
          "model_name": "LayoutModel",
          "model_module_version": "1.2.0",
          "state": {
            "_model_module": "@jupyter-widgets/base",
            "_model_module_version": "1.2.0",
            "_model_name": "LayoutModel",
            "_view_count": null,
            "_view_module": "@jupyter-widgets/base",
            "_view_module_version": "1.2.0",
            "_view_name": "LayoutView",
            "align_content": null,
            "align_items": null,
            "align_self": null,
            "border": null,
            "bottom": null,
            "display": null,
            "flex": null,
            "flex_flow": null,
            "grid_area": null,
            "grid_auto_columns": null,
            "grid_auto_flow": null,
            "grid_auto_rows": null,
            "grid_column": null,
            "grid_gap": null,
            "grid_row": null,
            "grid_template_areas": null,
            "grid_template_columns": null,
            "grid_template_rows": null,
            "height": null,
            "justify_content": null,
            "justify_items": null,
            "left": null,
            "margin": null,
            "max_height": null,
            "max_width": null,
            "min_height": null,
            "min_width": null,
            "object_fit": null,
            "object_position": null,
            "order": null,
            "overflow": null,
            "overflow_x": null,
            "overflow_y": null,
            "padding": null,
            "right": null,
            "top": null,
            "visibility": null,
            "width": null
          }
        },
        "f72e5797e5184204a2097fe25853fd35": {
          "model_module": "@jupyter-widgets/controls",
          "model_name": "DescriptionStyleModel",
          "model_module_version": "1.5.0",
          "state": {
            "_model_module": "@jupyter-widgets/controls",
            "_model_module_version": "1.5.0",
            "_model_name": "DescriptionStyleModel",
            "_view_count": null,
            "_view_module": "@jupyter-widgets/base",
            "_view_module_version": "1.2.0",
            "_view_name": "StyleView",
            "description_width": ""
          }
        },
        "658e3164088c4fb5afb9966372702231": {
          "model_module": "@jupyter-widgets/base",
          "model_name": "LayoutModel",
          "model_module_version": "1.2.0",
          "state": {
            "_model_module": "@jupyter-widgets/base",
            "_model_module_version": "1.2.0",
            "_model_name": "LayoutModel",
            "_view_count": null,
            "_view_module": "@jupyter-widgets/base",
            "_view_module_version": "1.2.0",
            "_view_name": "LayoutView",
            "align_content": null,
            "align_items": null,
            "align_self": null,
            "border": null,
            "bottom": null,
            "display": null,
            "flex": null,
            "flex_flow": null,
            "grid_area": null,
            "grid_auto_columns": null,
            "grid_auto_flow": null,
            "grid_auto_rows": null,
            "grid_column": null,
            "grid_gap": null,
            "grid_row": null,
            "grid_template_areas": null,
            "grid_template_columns": null,
            "grid_template_rows": null,
            "height": null,
            "justify_content": null,
            "justify_items": null,
            "left": null,
            "margin": null,
            "max_height": null,
            "max_width": null,
            "min_height": null,
            "min_width": null,
            "object_fit": null,
            "object_position": null,
            "order": null,
            "overflow": null,
            "overflow_x": null,
            "overflow_y": null,
            "padding": null,
            "right": null,
            "top": null,
            "visibility": null,
            "width": null
          }
        },
        "133067d3a72d4ba9bfe3d0902e3debf9": {
          "model_module": "@jupyter-widgets/controls",
          "model_name": "ProgressStyleModel",
          "model_module_version": "1.5.0",
          "state": {
            "_model_module": "@jupyter-widgets/controls",
            "_model_module_version": "1.5.0",
            "_model_name": "ProgressStyleModel",
            "_view_count": null,
            "_view_module": "@jupyter-widgets/base",
            "_view_module_version": "1.2.0",
            "_view_name": "StyleView",
            "bar_color": null,
            "description_width": ""
          }
        },
        "a3b2aec865074976b281389909e56bf8": {
          "model_module": "@jupyter-widgets/base",
          "model_name": "LayoutModel",
          "model_module_version": "1.2.0",
          "state": {
            "_model_module": "@jupyter-widgets/base",
            "_model_module_version": "1.2.0",
            "_model_name": "LayoutModel",
            "_view_count": null,
            "_view_module": "@jupyter-widgets/base",
            "_view_module_version": "1.2.0",
            "_view_name": "LayoutView",
            "align_content": null,
            "align_items": null,
            "align_self": null,
            "border": null,
            "bottom": null,
            "display": null,
            "flex": null,
            "flex_flow": null,
            "grid_area": null,
            "grid_auto_columns": null,
            "grid_auto_flow": null,
            "grid_auto_rows": null,
            "grid_column": null,
            "grid_gap": null,
            "grid_row": null,
            "grid_template_areas": null,
            "grid_template_columns": null,
            "grid_template_rows": null,
            "height": null,
            "justify_content": null,
            "justify_items": null,
            "left": null,
            "margin": null,
            "max_height": null,
            "max_width": null,
            "min_height": null,
            "min_width": null,
            "object_fit": null,
            "object_position": null,
            "order": null,
            "overflow": null,
            "overflow_x": null,
            "overflow_y": null,
            "padding": null,
            "right": null,
            "top": null,
            "visibility": null,
            "width": null
          }
        },
        "248563ca55b74eb38964b65e4151d013": {
          "model_module": "@jupyter-widgets/controls",
          "model_name": "DescriptionStyleModel",
          "model_module_version": "1.5.0",
          "state": {
            "_model_module": "@jupyter-widgets/controls",
            "_model_module_version": "1.5.0",
            "_model_name": "DescriptionStyleModel",
            "_view_count": null,
            "_view_module": "@jupyter-widgets/base",
            "_view_module_version": "1.2.0",
            "_view_name": "StyleView",
            "description_width": ""
          }
        },
        "1762c299c11f426cad1a6cdee1ebf92e": {
          "model_module": "@jupyter-widgets/controls",
          "model_name": "HBoxModel",
          "model_module_version": "1.5.0",
          "state": {
            "_dom_classes": [],
            "_model_module": "@jupyter-widgets/controls",
            "_model_module_version": "1.5.0",
            "_model_name": "HBoxModel",
            "_view_count": null,
            "_view_module": "@jupyter-widgets/controls",
            "_view_module_version": "1.5.0",
            "_view_name": "HBoxView",
            "box_style": "",
            "children": [
              "IPY_MODEL_d11c21b966084ebb92534680c5f3965d",
              "IPY_MODEL_12a3faa33e9448339dceedb1ffe01bfc",
              "IPY_MODEL_ad55c0354ebb41cf9b6b2ebd2b1a3e1e"
            ],
            "layout": "IPY_MODEL_d7b8d0320062425882624b51f54f1e31"
          }
        },
        "d11c21b966084ebb92534680c5f3965d": {
          "model_module": "@jupyter-widgets/controls",
          "model_name": "HTMLModel",
          "model_module_version": "1.5.0",
          "state": {
            "_dom_classes": [],
            "_model_module": "@jupyter-widgets/controls",
            "_model_module_version": "1.5.0",
            "_model_name": "HTMLModel",
            "_view_count": null,
            "_view_module": "@jupyter-widgets/controls",
            "_view_module_version": "1.5.0",
            "_view_name": "HTMLView",
            "description": "",
            "description_tooltip": null,
            "layout": "IPY_MODEL_25e3f761ea3b4d59a6c53701c48d4720",
            "placeholder": "​",
            "style": "IPY_MODEL_69885f9767844df28c5c9de1eae72b13",
            "value": "merges.txt: 100%"
          }
        },
        "12a3faa33e9448339dceedb1ffe01bfc": {
          "model_module": "@jupyter-widgets/controls",
          "model_name": "FloatProgressModel",
          "model_module_version": "1.5.0",
          "state": {
            "_dom_classes": [],
            "_model_module": "@jupyter-widgets/controls",
            "_model_module_version": "1.5.0",
            "_model_name": "FloatProgressModel",
            "_view_count": null,
            "_view_module": "@jupyter-widgets/controls",
            "_view_module_version": "1.5.0",
            "_view_name": "ProgressView",
            "bar_style": "success",
            "description": "",
            "description_tooltip": null,
            "layout": "IPY_MODEL_15a76b4660024d3c86abb9e5187f8315",
            "max": 456318,
            "min": 0,
            "orientation": "horizontal",
            "style": "IPY_MODEL_4411b71f2cea42e19b59128a799b6182",
            "value": 456318
          }
        },
        "ad55c0354ebb41cf9b6b2ebd2b1a3e1e": {
          "model_module": "@jupyter-widgets/controls",
          "model_name": "HTMLModel",
          "model_module_version": "1.5.0",
          "state": {
            "_dom_classes": [],
            "_model_module": "@jupyter-widgets/controls",
            "_model_module_version": "1.5.0",
            "_model_name": "HTMLModel",
            "_view_count": null,
            "_view_module": "@jupyter-widgets/controls",
            "_view_module_version": "1.5.0",
            "_view_name": "HTMLView",
            "description": "",
            "description_tooltip": null,
            "layout": "IPY_MODEL_4b741b49d6b34323af56f2d36c5c43c6",
            "placeholder": "​",
            "style": "IPY_MODEL_3f6ce730d1c540b3a081d9e578d97f1e",
            "value": " 456k/456k [00:00&lt;00:00, 8.69MB/s]"
          }
        },
        "d7b8d0320062425882624b51f54f1e31": {
          "model_module": "@jupyter-widgets/base",
          "model_name": "LayoutModel",
          "model_module_version": "1.2.0",
          "state": {
            "_model_module": "@jupyter-widgets/base",
            "_model_module_version": "1.2.0",
            "_model_name": "LayoutModel",
            "_view_count": null,
            "_view_module": "@jupyter-widgets/base",
            "_view_module_version": "1.2.0",
            "_view_name": "LayoutView",
            "align_content": null,
            "align_items": null,
            "align_self": null,
            "border": null,
            "bottom": null,
            "display": null,
            "flex": null,
            "flex_flow": null,
            "grid_area": null,
            "grid_auto_columns": null,
            "grid_auto_flow": null,
            "grid_auto_rows": null,
            "grid_column": null,
            "grid_gap": null,
            "grid_row": null,
            "grid_template_areas": null,
            "grid_template_columns": null,
            "grid_template_rows": null,
            "height": null,
            "justify_content": null,
            "justify_items": null,
            "left": null,
            "margin": null,
            "max_height": null,
            "max_width": null,
            "min_height": null,
            "min_width": null,
            "object_fit": null,
            "object_position": null,
            "order": null,
            "overflow": null,
            "overflow_x": null,
            "overflow_y": null,
            "padding": null,
            "right": null,
            "top": null,
            "visibility": null,
            "width": null
          }
        },
        "25e3f761ea3b4d59a6c53701c48d4720": {
          "model_module": "@jupyter-widgets/base",
          "model_name": "LayoutModel",
          "model_module_version": "1.2.0",
          "state": {
            "_model_module": "@jupyter-widgets/base",
            "_model_module_version": "1.2.0",
            "_model_name": "LayoutModel",
            "_view_count": null,
            "_view_module": "@jupyter-widgets/base",
            "_view_module_version": "1.2.0",
            "_view_name": "LayoutView",
            "align_content": null,
            "align_items": null,
            "align_self": null,
            "border": null,
            "bottom": null,
            "display": null,
            "flex": null,
            "flex_flow": null,
            "grid_area": null,
            "grid_auto_columns": null,
            "grid_auto_flow": null,
            "grid_auto_rows": null,
            "grid_column": null,
            "grid_gap": null,
            "grid_row": null,
            "grid_template_areas": null,
            "grid_template_columns": null,
            "grid_template_rows": null,
            "height": null,
            "justify_content": null,
            "justify_items": null,
            "left": null,
            "margin": null,
            "max_height": null,
            "max_width": null,
            "min_height": null,
            "min_width": null,
            "object_fit": null,
            "object_position": null,
            "order": null,
            "overflow": null,
            "overflow_x": null,
            "overflow_y": null,
            "padding": null,
            "right": null,
            "top": null,
            "visibility": null,
            "width": null
          }
        },
        "69885f9767844df28c5c9de1eae72b13": {
          "model_module": "@jupyter-widgets/controls",
          "model_name": "DescriptionStyleModel",
          "model_module_version": "1.5.0",
          "state": {
            "_model_module": "@jupyter-widgets/controls",
            "_model_module_version": "1.5.0",
            "_model_name": "DescriptionStyleModel",
            "_view_count": null,
            "_view_module": "@jupyter-widgets/base",
            "_view_module_version": "1.2.0",
            "_view_name": "StyleView",
            "description_width": ""
          }
        },
        "15a76b4660024d3c86abb9e5187f8315": {
          "model_module": "@jupyter-widgets/base",
          "model_name": "LayoutModel",
          "model_module_version": "1.2.0",
          "state": {
            "_model_module": "@jupyter-widgets/base",
            "_model_module_version": "1.2.0",
            "_model_name": "LayoutModel",
            "_view_count": null,
            "_view_module": "@jupyter-widgets/base",
            "_view_module_version": "1.2.0",
            "_view_name": "LayoutView",
            "align_content": null,
            "align_items": null,
            "align_self": null,
            "border": null,
            "bottom": null,
            "display": null,
            "flex": null,
            "flex_flow": null,
            "grid_area": null,
            "grid_auto_columns": null,
            "grid_auto_flow": null,
            "grid_auto_rows": null,
            "grid_column": null,
            "grid_gap": null,
            "grid_row": null,
            "grid_template_areas": null,
            "grid_template_columns": null,
            "grid_template_rows": null,
            "height": null,
            "justify_content": null,
            "justify_items": null,
            "left": null,
            "margin": null,
            "max_height": null,
            "max_width": null,
            "min_height": null,
            "min_width": null,
            "object_fit": null,
            "object_position": null,
            "order": null,
            "overflow": null,
            "overflow_x": null,
            "overflow_y": null,
            "padding": null,
            "right": null,
            "top": null,
            "visibility": null,
            "width": null
          }
        },
        "4411b71f2cea42e19b59128a799b6182": {
          "model_module": "@jupyter-widgets/controls",
          "model_name": "ProgressStyleModel",
          "model_module_version": "1.5.0",
          "state": {
            "_model_module": "@jupyter-widgets/controls",
            "_model_module_version": "1.5.0",
            "_model_name": "ProgressStyleModel",
            "_view_count": null,
            "_view_module": "@jupyter-widgets/base",
            "_view_module_version": "1.2.0",
            "_view_name": "StyleView",
            "bar_color": null,
            "description_width": ""
          }
        },
        "4b741b49d6b34323af56f2d36c5c43c6": {
          "model_module": "@jupyter-widgets/base",
          "model_name": "LayoutModel",
          "model_module_version": "1.2.0",
          "state": {
            "_model_module": "@jupyter-widgets/base",
            "_model_module_version": "1.2.0",
            "_model_name": "LayoutModel",
            "_view_count": null,
            "_view_module": "@jupyter-widgets/base",
            "_view_module_version": "1.2.0",
            "_view_name": "LayoutView",
            "align_content": null,
            "align_items": null,
            "align_self": null,
            "border": null,
            "bottom": null,
            "display": null,
            "flex": null,
            "flex_flow": null,
            "grid_area": null,
            "grid_auto_columns": null,
            "grid_auto_flow": null,
            "grid_auto_rows": null,
            "grid_column": null,
            "grid_gap": null,
            "grid_row": null,
            "grid_template_areas": null,
            "grid_template_columns": null,
            "grid_template_rows": null,
            "height": null,
            "justify_content": null,
            "justify_items": null,
            "left": null,
            "margin": null,
            "max_height": null,
            "max_width": null,
            "min_height": null,
            "min_width": null,
            "object_fit": null,
            "object_position": null,
            "order": null,
            "overflow": null,
            "overflow_x": null,
            "overflow_y": null,
            "padding": null,
            "right": null,
            "top": null,
            "visibility": null,
            "width": null
          }
        },
        "3f6ce730d1c540b3a081d9e578d97f1e": {
          "model_module": "@jupyter-widgets/controls",
          "model_name": "DescriptionStyleModel",
          "model_module_version": "1.5.0",
          "state": {
            "_model_module": "@jupyter-widgets/controls",
            "_model_module_version": "1.5.0",
            "_model_name": "DescriptionStyleModel",
            "_view_count": null,
            "_view_module": "@jupyter-widgets/base",
            "_view_module_version": "1.2.0",
            "_view_name": "StyleView",
            "description_width": ""
          }
        },
        "a5da73d898e840b3b1ffda0390425a72": {
          "model_module": "@jupyter-widgets/controls",
          "model_name": "HBoxModel",
          "model_module_version": "1.5.0",
          "state": {
            "_dom_classes": [],
            "_model_module": "@jupyter-widgets/controls",
            "_model_module_version": "1.5.0",
            "_model_name": "HBoxModel",
            "_view_count": null,
            "_view_module": "@jupyter-widgets/controls",
            "_view_module_version": "1.5.0",
            "_view_name": "HBoxView",
            "box_style": "",
            "children": [
              "IPY_MODEL_c019e3af238b4eff98f8c4d703dcfcc8",
              "IPY_MODEL_f0866926dc4f4897a889e039e0d864a6",
              "IPY_MODEL_2d140867649f4c048a937d9ec2e6826f"
            ],
            "layout": "IPY_MODEL_578ec90913444bd8865ba7265988bf49"
          }
        },
        "c019e3af238b4eff98f8c4d703dcfcc8": {
          "model_module": "@jupyter-widgets/controls",
          "model_name": "HTMLModel",
          "model_module_version": "1.5.0",
          "state": {
            "_dom_classes": [],
            "_model_module": "@jupyter-widgets/controls",
            "_model_module_version": "1.5.0",
            "_model_name": "HTMLModel",
            "_view_count": null,
            "_view_module": "@jupyter-widgets/controls",
            "_view_module_version": "1.5.0",
            "_view_name": "HTMLView",
            "description": "",
            "description_tooltip": null,
            "layout": "IPY_MODEL_3b795cff11984450aacc573320b00719",
            "placeholder": "​",
            "style": "IPY_MODEL_442cb09424294104860f7962043097f3",
            "value": "tokenizer.json: 100%"
          }
        },
        "f0866926dc4f4897a889e039e0d864a6": {
          "model_module": "@jupyter-widgets/controls",
          "model_name": "FloatProgressModel",
          "model_module_version": "1.5.0",
          "state": {
            "_dom_classes": [],
            "_model_module": "@jupyter-widgets/controls",
            "_model_module_version": "1.5.0",
            "_model_name": "FloatProgressModel",
            "_view_count": null,
            "_view_module": "@jupyter-widgets/controls",
            "_view_module_version": "1.5.0",
            "_view_name": "ProgressView",
            "bar_style": "success",
            "description": "",
            "description_tooltip": null,
            "layout": "IPY_MODEL_6db5473980494898931f644e5f2b55ed",
            "max": 1355863,
            "min": 0,
            "orientation": "horizontal",
            "style": "IPY_MODEL_df79997cad494fbcbdd4732af8a66840",
            "value": 1355863
          }
        },
        "2d140867649f4c048a937d9ec2e6826f": {
          "model_module": "@jupyter-widgets/controls",
          "model_name": "HTMLModel",
          "model_module_version": "1.5.0",
          "state": {
            "_dom_classes": [],
            "_model_module": "@jupyter-widgets/controls",
            "_model_module_version": "1.5.0",
            "_model_name": "HTMLModel",
            "_view_count": null,
            "_view_module": "@jupyter-widgets/controls",
            "_view_module_version": "1.5.0",
            "_view_name": "HTMLView",
            "description": "",
            "description_tooltip": null,
            "layout": "IPY_MODEL_203464e947164fe2a5b42d3e9e3bd5e7",
            "placeholder": "​",
            "style": "IPY_MODEL_14dba17781704c9886f009857e9bd317",
            "value": " 1.36M/1.36M [00:00&lt;00:00, 14.5MB/s]"
          }
        },
        "578ec90913444bd8865ba7265988bf49": {
          "model_module": "@jupyter-widgets/base",
          "model_name": "LayoutModel",
          "model_module_version": "1.2.0",
          "state": {
            "_model_module": "@jupyter-widgets/base",
            "_model_module_version": "1.2.0",
            "_model_name": "LayoutModel",
            "_view_count": null,
            "_view_module": "@jupyter-widgets/base",
            "_view_module_version": "1.2.0",
            "_view_name": "LayoutView",
            "align_content": null,
            "align_items": null,
            "align_self": null,
            "border": null,
            "bottom": null,
            "display": null,
            "flex": null,
            "flex_flow": null,
            "grid_area": null,
            "grid_auto_columns": null,
            "grid_auto_flow": null,
            "grid_auto_rows": null,
            "grid_column": null,
            "grid_gap": null,
            "grid_row": null,
            "grid_template_areas": null,
            "grid_template_columns": null,
            "grid_template_rows": null,
            "height": null,
            "justify_content": null,
            "justify_items": null,
            "left": null,
            "margin": null,
            "max_height": null,
            "max_width": null,
            "min_height": null,
            "min_width": null,
            "object_fit": null,
            "object_position": null,
            "order": null,
            "overflow": null,
            "overflow_x": null,
            "overflow_y": null,
            "padding": null,
            "right": null,
            "top": null,
            "visibility": null,
            "width": null
          }
        },
        "3b795cff11984450aacc573320b00719": {
          "model_module": "@jupyter-widgets/base",
          "model_name": "LayoutModel",
          "model_module_version": "1.2.0",
          "state": {
            "_model_module": "@jupyter-widgets/base",
            "_model_module_version": "1.2.0",
            "_model_name": "LayoutModel",
            "_view_count": null,
            "_view_module": "@jupyter-widgets/base",
            "_view_module_version": "1.2.0",
            "_view_name": "LayoutView",
            "align_content": null,
            "align_items": null,
            "align_self": null,
            "border": null,
            "bottom": null,
            "display": null,
            "flex": null,
            "flex_flow": null,
            "grid_area": null,
            "grid_auto_columns": null,
            "grid_auto_flow": null,
            "grid_auto_rows": null,
            "grid_column": null,
            "grid_gap": null,
            "grid_row": null,
            "grid_template_areas": null,
            "grid_template_columns": null,
            "grid_template_rows": null,
            "height": null,
            "justify_content": null,
            "justify_items": null,
            "left": null,
            "margin": null,
            "max_height": null,
            "max_width": null,
            "min_height": null,
            "min_width": null,
            "object_fit": null,
            "object_position": null,
            "order": null,
            "overflow": null,
            "overflow_x": null,
            "overflow_y": null,
            "padding": null,
            "right": null,
            "top": null,
            "visibility": null,
            "width": null
          }
        },
        "442cb09424294104860f7962043097f3": {
          "model_module": "@jupyter-widgets/controls",
          "model_name": "DescriptionStyleModel",
          "model_module_version": "1.5.0",
          "state": {
            "_model_module": "@jupyter-widgets/controls",
            "_model_module_version": "1.5.0",
            "_model_name": "DescriptionStyleModel",
            "_view_count": null,
            "_view_module": "@jupyter-widgets/base",
            "_view_module_version": "1.2.0",
            "_view_name": "StyleView",
            "description_width": ""
          }
        },
        "6db5473980494898931f644e5f2b55ed": {
          "model_module": "@jupyter-widgets/base",
          "model_name": "LayoutModel",
          "model_module_version": "1.2.0",
          "state": {
            "_model_module": "@jupyter-widgets/base",
            "_model_module_version": "1.2.0",
            "_model_name": "LayoutModel",
            "_view_count": null,
            "_view_module": "@jupyter-widgets/base",
            "_view_module_version": "1.2.0",
            "_view_name": "LayoutView",
            "align_content": null,
            "align_items": null,
            "align_self": null,
            "border": null,
            "bottom": null,
            "display": null,
            "flex": null,
            "flex_flow": null,
            "grid_area": null,
            "grid_auto_columns": null,
            "grid_auto_flow": null,
            "grid_auto_rows": null,
            "grid_column": null,
            "grid_gap": null,
            "grid_row": null,
            "grid_template_areas": null,
            "grid_template_columns": null,
            "grid_template_rows": null,
            "height": null,
            "justify_content": null,
            "justify_items": null,
            "left": null,
            "margin": null,
            "max_height": null,
            "max_width": null,
            "min_height": null,
            "min_width": null,
            "object_fit": null,
            "object_position": null,
            "order": null,
            "overflow": null,
            "overflow_x": null,
            "overflow_y": null,
            "padding": null,
            "right": null,
            "top": null,
            "visibility": null,
            "width": null
          }
        },
        "df79997cad494fbcbdd4732af8a66840": {
          "model_module": "@jupyter-widgets/controls",
          "model_name": "ProgressStyleModel",
          "model_module_version": "1.5.0",
          "state": {
            "_model_module": "@jupyter-widgets/controls",
            "_model_module_version": "1.5.0",
            "_model_name": "ProgressStyleModel",
            "_view_count": null,
            "_view_module": "@jupyter-widgets/base",
            "_view_module_version": "1.2.0",
            "_view_name": "StyleView",
            "bar_color": null,
            "description_width": ""
          }
        },
        "203464e947164fe2a5b42d3e9e3bd5e7": {
          "model_module": "@jupyter-widgets/base",
          "model_name": "LayoutModel",
          "model_module_version": "1.2.0",
          "state": {
            "_model_module": "@jupyter-widgets/base",
            "_model_module_version": "1.2.0",
            "_model_name": "LayoutModel",
            "_view_count": null,
            "_view_module": "@jupyter-widgets/base",
            "_view_module_version": "1.2.0",
            "_view_name": "LayoutView",
            "align_content": null,
            "align_items": null,
            "align_self": null,
            "border": null,
            "bottom": null,
            "display": null,
            "flex": null,
            "flex_flow": null,
            "grid_area": null,
            "grid_auto_columns": null,
            "grid_auto_flow": null,
            "grid_auto_rows": null,
            "grid_column": null,
            "grid_gap": null,
            "grid_row": null,
            "grid_template_areas": null,
            "grid_template_columns": null,
            "grid_template_rows": null,
            "height": null,
            "justify_content": null,
            "justify_items": null,
            "left": null,
            "margin": null,
            "max_height": null,
            "max_width": null,
            "min_height": null,
            "min_width": null,
            "object_fit": null,
            "object_position": null,
            "order": null,
            "overflow": null,
            "overflow_x": null,
            "overflow_y": null,
            "padding": null,
            "right": null,
            "top": null,
            "visibility": null,
            "width": null
          }
        },
        "14dba17781704c9886f009857e9bd317": {
          "model_module": "@jupyter-widgets/controls",
          "model_name": "DescriptionStyleModel",
          "model_module_version": "1.5.0",
          "state": {
            "_model_module": "@jupyter-widgets/controls",
            "_model_module_version": "1.5.0",
            "_model_name": "DescriptionStyleModel",
            "_view_count": null,
            "_view_module": "@jupyter-widgets/base",
            "_view_module_version": "1.2.0",
            "_view_name": "StyleView",
            "description_width": ""
          }
        }
      }
    }
  },
  "cells": [
    {
      "cell_type": "markdown",
      "metadata": {
        "id": "view-in-github",
        "colab_type": "text"
      },
      "source": [
        "<a href=\"https://colab.research.google.com/github/BenjaminRiordan/workshops-and-tutorials/blob/main/KBS_Workshop.ipynb\" target=\"_parent\"><img src=\"https://colab.research.google.com/assets/colab-badge.svg\" alt=\"Open In Colab\"/></a>"
      ]
    },
    {
      "cell_type": "markdown",
      "source": [
        "<center><img src=\"https://drive.google.com/uc?id=1RX3rnToFo-jh_NAiCUoY4fKt8Xv2ituI\" width=\"1000\"></center>\n"
      ],
      "metadata": {
        "id": "VZvHuYXgF1UY"
      }
    },
    {
      "cell_type": "markdown",
      "source": [
        "# **KBS Workshop 2024**\n",
        "Ben Riordan, Zhen He, Emmanuel Kuntsche\n",
        "---\n",
        "\n",
        "Welcome to the 'handy dandy colab notebook' for our KBS tutorial. I've tried to make this colab notebook super gentle and easy to use and I've written it so you don't have to write any code (though I am going to encourage you to play with the code and try to break things).\n",
        "\n",
        "To navigate through the notebook, you can use the \"Table of Contents\" on the left or you can just scroll down and follow along as I present. My hope is that you follow through as I talk, but I wouldn't do that... so feel free to jump around and have some fun.\n",
        "\n",
        "To run the code in any of the cells, you can hit the \"play\" icon in the top left corner. Alternatively, feel free to click on the codeblock and press \"ctrl\" and \"enter\" or just mash the keyboard until something happens.\n",
        "\n",
        "I have also written the code so each example can \"stand alone\". This is so that if your notebook \"times out\" or if you want to copy and paste code into your own file you can do so without having to jump around too much.\n",
        "\n",
        "Finally, this is a presentation about AI in research and if you look into the top right of your screen you will see \"Colab AI\". If you have any questions while going through, you can click on that and ask our AI overlord a question about the code:\n",
        "* \"what does this package do?\"\n",
        "* \"What does this code mean?\"\n",
        "* \"What other AI models can I use for this question?\"\n",
        "\n",
        "## **Materials and resources**\n",
        "\n",
        "The materials for this tutorial can be found on GitHub: https://github.com/BenjaminRiordan/workshops-and-tutorials/tree/main/KBS2024\n",
        "\n",
        "**Tutorial paper**\n",
        "\n",
        "Most of the code and examples have come from our tutorial paper, but we have a few papers on zero-shot learning (which is going to be our main focus):\n",
        "\n",
        "* Riordan B, Bonela AA, He Z, Nibali A, Anderson-Luxford D, Kuntsche E. How to apply zero-shot learning to text data in substance use research: An overview and tutorial with media data. Addiction. 2024; 119(5): 951–959. https://doi.org/10.1111/add.16427\n",
        "\n",
        "**Other papers**\n",
        "\n",
        "*Comparison of ZSL and dedicated deep learning algorithm*\n",
        "\n",
        "* Bonela, A.A., et al. The promise of zero-shot learning for alcohol image detection: comparison with a task-specific deep learning algorithm. Sci Rep 13, 11891 (2023). https://doi.org/10.1038/s41598-023-39169-4\n",
        "\n",
        "*Commentary on why ZSL*\n",
        "\n",
        "* Kuntsche E, He Z, Bonela AA, Riordan B. Zero-shot learning has the potential to revolutionise research on exposure to alcohol and other drugs in digital media. Int J Drug Policy. 2023 Aug;118:104098. https://doi.org/10.1016/j.drugpo.2023.104098.\n",
        "\n"
      ],
      "metadata": {
        "id": "EHoLHMBsWcCU"
      }
    },
    {
      "cell_type": "markdown",
      "source": [
        "## Example 1. Supervised machine learning: Regression\n",
        "\n",
        "We want to train a model to predict the number of likes a Neon Ghost post gets from the number of followers she has at the time of posting.\n",
        "\n",
        "This is about as simple as we can make this task, but we could add more variables, like whether the post references alcohol and day of the week of the post to get a little crazy with it!"
      ],
      "metadata": {
        "id": "ILvQpAFZWqLl"
      }
    },
    {
      "cell_type": "markdown",
      "source": [
        "<center><img src=\"https://drive.google.com/uc?id=1zmW1Eb8NpMg6ZB7gro-phrvZHBbRt4bn\" width=\"600\"></center>\n"
      ],
      "metadata": {
        "id": "mZRSae4aG71I"
      }
    },
    {
      "cell_type": "markdown",
      "source": [
        "### Cell 1a. Fit model\n",
        "\n",
        "Here we are going to load the packages required, generate some fake data, fit a regression, and plot it."
      ],
      "metadata": {
        "id": "_V-O_Nl2tGda"
      }
    },
    {
      "cell_type": "code",
      "execution_count": 2,
      "metadata": {
        "colab": {
          "base_uri": "https://localhost:8080/",
          "height": 449
        },
        "id": "9E-f2CfmWYw-",
        "outputId": "71fa899c-eed8-46b7-fe0d-d49c5d1448f6"
      },
      "outputs": [
        {
          "output_type": "display_data",
          "data": {
            "text/plain": [
              "<Figure size 640x480 with 1 Axes>"
            ],
            "image/png": "[encoded data removed]"
          },
          "metadata": {}
        }
      ],
      "source": [
        "# Import necessary libraries\n",
        "import pandas as pd # Data manipulation (here we will use it to make a data frame)\n",
        "import matplotlib.pyplot as plt  # Make a plot\n",
        "from sklearn.linear_model import LinearRegression #regression\n",
        "\n",
        "# Hypothetical dataset - we are just going to bang in some numbers, but you could read in a dataset here instead.\n",
        "# Feel free to add your own numbers and break this thing\n",
        "data = {\n",
        "    'followers': [100, 200, 300, 400, 500, 600, 700],\n",
        "    'likes': [10, 24, 40, 50, 70, 100, 160]\n",
        "}\n",
        "\n",
        "# Make it a dataframe for analysis.\n",
        "df = pd.DataFrame(data)\n",
        "\n",
        "# Specify our predictor (followers) and our outcome (likes)\n",
        "X = df[['followers']]\n",
        "y = df['likes']\n",
        "\n",
        "# Initialize the model\n",
        "model = LinearRegression()\n",
        "\n",
        "# Fit the model to the entire data - WE ARE DOING IT!!!! OMG. We are totes machine learning\n",
        "model.fit(X, y)\n",
        "\n",
        "# Plot the data and the regression line\n",
        "plt.scatter(df['followers'], df['likes'], color='b')\n",
        "plt.plot(df['followers'], model.predict(df[['followers']]), color='r')\n",
        "plt.xlabel('Followers')\n",
        "plt.ylabel('Likes')\n",
        "plt.show()\n"
      ]
    },
    {
      "cell_type": "markdown",
      "source": [
        "### Cell 1b. Predict new data\n",
        "\n",
        "Now that we have a model, we can use it to predict new data points. Here we are going to estimate how many posts Neon Ghost will receive when she has 250 followers."
      ],
      "metadata": {
        "id": "2p-Pk2Kks-Fa"
      }
    },
    {
      "cell_type": "code",
      "source": [
        "# PREDICT NEW DATAPOINTS\n",
        "\n",
        "# New post with a certain number of followers\n",
        "new_post = pd.DataFrame({'followers': [250]})\n",
        "\n",
        "# Predict the number of likes for the new post\n",
        "predicted_likes = model.predict(new_post)\n",
        "\n",
        "#Print the number\n",
        "print(f\"Predicted number of likes for the new post: {predicted_likes[0]}\")\n"
      ],
      "metadata": {
        "colab": {
          "base_uri": "https://localhost:8080/"
        },
        "id": "09Lt30hOX2rc",
        "outputId": "d6f2b8c6-fd4f-435f-ea32-02e6dce7d6c0"
      },
      "execution_count": 3,
      "outputs": [
        {
          "output_type": "stream",
          "name": "stdout",
          "text": [
            "Predicted number of likes for the new post: 30.999999999999986\n"
          ]
        }
      ]
    },
    {
      "cell_type": "markdown",
      "source": [
        "### Cell 1c. New graph\n",
        "\n",
        "Here, we are going to plot a graph with our new point on it."
      ],
      "metadata": {
        "id": "yvyfRAvujW38"
      }
    },
    {
      "cell_type": "code",
      "source": [
        "# Add the new post to the plot\n",
        "plt.scatter(df['followers'], df['likes'], color='k')\n",
        "plt.plot(df['followers'], model.predict(df[['followers']]), color='k')\n",
        "plt.scatter(new_post['followers'], predicted_likes, color='r', s=200)\n",
        "plt.xlabel('Followers')\n",
        "plt.ylabel('Likes')\n",
        "plt.show()"
      ],
      "metadata": {
        "colab": {
          "base_uri": "https://localhost:8080/",
          "height": 449
        },
        "id": "7kRg8ReAjLOM",
        "outputId": "78235725-b195-4aad-cc1d-d5488e746464"
      },
      "execution_count": 4,
      "outputs": [
        {
          "output_type": "display_data",
          "data": {
            "text/plain": [
              "<Figure size 640x480 with 1 Axes>"
            ],
            "image/png": "[encoded data removed]"
          },
          "metadata": {}
        }
      ]
    },
    {
      "cell_type": "markdown",
      "source": [
        "## Example 2. Unsupervised machine learning: Topic model\n",
        "\n",
        "We want to use unsupervised machine learning to identify the different topics from Neon Ghost's cyber-gram posts. We are going to use a technique called Latent Dirichlet Allocation (LDA). The aim of LDA is to find topics that a document belongs to based on the words used. It assumes that similar topics will use similar words.\n",
        "\n",
        "I  have never really found LDA to be that useful (particularly for short text like Tweets)... but the point is to show you how it looks.\n",
        "\n",
        "For more information, I recommend the TidyText book (for R) or Julia Silge's screencasts:\n",
        "\n",
        "https://www.youtube.com/watch?v=rXDv0ZuX0Fc&ab_channel=JuliaSilge"
      ],
      "metadata": {
        "id": "TyQ8nY6CbsVr"
      }
    },
    {
      "cell_type": "markdown",
      "source": [
        "<p align=\"center\">\n",
        "  <img src=\"https://drive.google.com/uc?export=view&id=1iig1mjC_1gt1YdhnEXn1-9Abtg9Wdgj7\" width=\"200\" />\n",
        "</p>\n"
      ],
      "metadata": {
        "id": "IEwZ3pD_m61Y"
      }
    },
    {
      "cell_type": "markdown",
      "source": [
        "### Cell 2a. Load the packages we need"
      ],
      "metadata": {
        "id": "EdY0KjSzN0Cr"
      }
    },
    {
      "cell_type": "code",
      "source": [
        "# Packages we need\n",
        "\n",
        "import nltk # Natural language tool kit\n",
        "from gensim import corpora # Process text corpus\n",
        "from gensim.models import LdaModel # Latent dirichlet model\n",
        "from pprint import pprint # prints data structures... but pretty\n",
        "\n",
        "nltk.download('punkt') #tokeniser\n"
      ],
      "metadata": {
        "colab": {
          "base_uri": "https://localhost:8080/"
        },
        "id": "lbhl6ne5byy7",
        "outputId": "1a92d23e-3b41-4ac8-beda-339335e4862e"
      },
      "execution_count": 5,
      "outputs": [
        {
          "output_type": "stream",
          "name": "stderr",
          "text": [
            "[nltk_data] Downloading package punkt to /root/nltk_data...\n",
            "[nltk_data]   Unzipping tokenizers/punkt.zip.\n"
          ]
        },
        {
          "output_type": "execute_result",
          "data": {
            "text/plain": [
              "True"
            ]
          },
          "metadata": {},
          "execution_count": 5
        }
      ]
    },
    {
      "cell_type": "markdown",
      "source": [
        "### Cell 2b. Generate some example posts\n",
        "\n",
        "I have generated some silly examples with 2 clear themes - 1. booze and 2. the cold cold cyber-punk world.\n",
        "\n",
        "Feel free to add your own examples or extend these."
      ],
      "metadata": {
        "id": "A7LKcHRxNGjD"
      }
    },
    {
      "cell_type": "code",
      "source": [
        "# Let's say we have a collection of posts from the fictional influencer \"Neon Ghost\".\n",
        "documents = [\n",
        "    \"Glasses of whiskey and beer cloud my mind\",\n",
        "    \"Nothing like whiskey and beer in my favourite bar the underdark\",\n",
        "    \"I love cyber whiskey and beer in the underdark bar\",\n",
        "    \"More whiskey in the underdark bar\",\n",
        "    \"This city is cold\",\n",
        "    \"This cold city\",\n",
        "    \"I hate the cold cold city\",\n",
        "    \"This neon city is cold\",\n",
        "    \"Cold neon city You break me\"\n",
        "    # ... feel free to add more and more creative examples, I really leaned into the \"cold hard city\" vibes ...\n",
        "]"
      ],
      "metadata": {
        "id": "ZKEGCEVaNF30"
      },
      "execution_count": 6,
      "outputs": []
    },
    {
      "cell_type": "markdown",
      "source": [
        "### Cell 2c. Tokenise and cluster\n",
        "\n",
        "Here we are going to tokenise the documents. Tokenising is where we break down text into bits called 'tokens' (e.g., breaking it down to individual words)"
      ],
      "metadata": {
        "id": "CSeBgasHN7Sb"
      }
    },
    {
      "cell_type": "code",
      "source": [
        "\n",
        "# Tokenize the documents.\n",
        "tokenized_documents = [nltk.word_tokenize(doc) for doc in documents]\n",
        "\n",
        "# Create a dictionary representation of the documents.\n",
        "dictionary = corpora.Dictionary(tokenized_documents)\n",
        "\n",
        "# Convert document into the bag-of-words (BoW) format = list of (token_id, token_count) tuples.\n",
        "corpus = [dictionary.doc2bow(doc) for doc in tokenized_documents]\n",
        "\n",
        "# Set training parameters. Note that we can select how many topics we want. I've really forced 2 clear topics with the data, but you can change the 2 to a 3 and see what happens.\n",
        "num_topics = 2\n",
        "chunksize = 2000\n",
        "passes = 20\n",
        "iterations = 400\n",
        "eval_every = None  # Eh. This is going to take time. Don't do this.\n",
        "\n",
        "# Make an index to word dictionary.\n",
        "temp = dictionary[0]  # This is only to \"load\" the dictionary.\n",
        "id2word = dictionary.id2token\n",
        "\n",
        "model = LdaModel(\n",
        "    corpus=corpus,\n",
        "    id2word=id2word,\n",
        "    chunksize=chunksize,\n",
        "    alpha='auto',\n",
        "    eta='auto',\n",
        "    iterations=iterations,\n",
        "    num_topics=num_topics,\n",
        "    passes=passes,\n",
        "    eval_every=eval_every\n",
        ")\n",
        "\n",
        "top_topics = model.top_topics(corpus)\n",
        "\n",
        "# If you use this method in practice, you can change the number of topics and calculate \"coherence scores\" and compare whether models with more/fewer topics are more interpretable.\n",
        "# We won't run them here because I am lazy and trying to keep the code clean."
      ],
      "metadata": {
        "id": "6Gv8HuAlezGL"
      },
      "execution_count": 7,
      "outputs": []
    },
    {
      "cell_type": "markdown",
      "source": [
        "### Cell 2d Plot the topics\n",
        "\n",
        "We are going to plot the frequency of the words as a bar chart. This is by far the nicest way to visualise the topics. I know that you have probably been told that bar charts have no place in this world, but we should be fine for situations where we are plotting the fequency of words."
      ],
      "metadata": {
        "id": "JT972-sOSiy0"
      }
    },
    {
      "cell_type": "code",
      "source": [
        "# Package for plot\n",
        "# note - we already included this code above, but I am going to assume your notebook has timed out because I talked too much and it'll make you reload it.\n",
        "import matplotlib.pyplot as plt\n",
        "\n",
        "# Get the top 5 words from each topic\n",
        "top_words = [[word for word, _ in model.show_topic(topicid, topn=5)] for topicid in range(model.num_topics)]\n",
        "\n",
        "# Get the frequencies of the top 5 words from each topic\n",
        "top_frequencies = [[freq for _, freq in model.show_topic(topicid, topn=5)] for topicid in range(model.num_topics)]\n",
        "\n",
        "# Create a figure with 2 subplots (one for each topic)\n",
        "fig, axs = plt.subplots(1, 2, figsize=(10, 5))\n",
        "\n",
        "# For each topic, create a bar plot of the word frequencies\n",
        "for i in range(2):\n",
        "    axs[i].bar(top_words[i], top_frequencies[i])\n",
        "    axs[i].set_title(f'Topic {i+1}')\n",
        "    axs[i].set_ylabel('Frequency')\n",
        "    for tick in axs[i].get_xticklabels():\n",
        "        tick.set_rotation(45)\n",
        "\n",
        "# Display the plot\n",
        "plt.tight_layout()\n",
        "plt.show()\n"
      ],
      "metadata": {
        "colab": {
          "base_uri": "https://localhost:8080/",
          "height": 507
        },
        "id": "NQEV88rif8in",
        "outputId": "6446627c-57f4-422a-a719-732b828a4e35"
      },
      "execution_count": 8,
      "outputs": [
        {
          "output_type": "display_data",
          "data": {
            "text/plain": [
              "<Figure size 1000x500 with 2 Axes>"
            ],
            "image/png": "[encoded data removed]"
          },
          "metadata": {}
        }
      ]
    },
    {
      "cell_type": "markdown",
      "source": [
        "# Zero-Shot learning\n",
        "\n",
        "Zero-shot learning is where we use a trained model (like a Large Language Model) to classify data it has not specifically been trained on.\n"
      ],
      "metadata": {
        "id": "FX5XX_Miuo6F"
      }
    },
    {
      "cell_type": "markdown",
      "source": [
        "<p align=\"center\">\n",
        "  <img src=\"https://drive.google.com/uc?export=view&id=1WU5Cg1yjUy-tJN2iWyRVFqypqf2URf6r\" width=\"600\"/>\n",
        "</p>"
      ],
      "metadata": {
        "id": "_-HE4OTonb2J"
      }
    },
    {
      "cell_type": "markdown",
      "source": [
        "## Example 3. Zero-shot learning - Text\n",
        "\n",
        "We are going to use BARTLarge to analyse whether a Tweet that mentions a blackout is alcohol-related or not. These examples are entirely made up, but are based on a number of papers we wrote on how alcohol-related blackouts are referenced on Twitter.\n",
        "\n",
        "This code is also very basic, but we cover it at length in our tutorial.\n",
        "\n",
        "\n",
        "**ZSL tutorial:**\n",
        "\n",
        "Riordan B, Bonela AA, He Z, Nibali A, Anderson-Luxford D, Kuntsche E. How to apply zero-shot learning to text data in substance use research: An overview and tutorial with media data. Addiction. 2024; 119(5): 951–959. https://doi.org/10.1111/add.16427\n"
      ],
      "metadata": {
        "id": "BKJZVFb7hnIi"
      }
    },
    {
      "cell_type": "markdown",
      "source": [
        "<p align=\"center\">\n",
        "  <img src=\"https://drive.google.com/uc?export=view&id=1_bYip1yZnxryP-1mEngNykCpmElT3lrp\" width=\"200\"/>\n",
        "</p>\n"
      ],
      "metadata": {
        "id": "7oCHFTxRoSRT"
      }
    },
    {
      "cell_type": "markdown",
      "source": [
        "### Cell 3a. BARTLarge\n",
        "\n",
        "Here we initialise the pipeline and specify \"zero-shot-classification\" and select our model \"facebook/bart-large-mnli\". Note that we can specify other tasks using the pipeline function, like \"question-answering\" where it give you answers from the text or \"summarization\" where it will summarise text. Note that, from memory, with Bartlarge's \"question-answering\" it will only answer the question with information from within the target text.\n",
        "\n",
        "\n",
        "Anyway, here we care about \"zero-shot classification\", so lets leave it at that!"
      ],
      "metadata": {
        "id": "d9HzuBoiDq0e"
      }
    },
    {
      "cell_type": "code",
      "source": [
        "# Load up our packages - bart large is large and might take a while\n",
        "\n",
        "from transformers import pipeline\n",
        "\n",
        "# Initialise the zero-shot classification pipeline\n",
        "classifier = pipeline(\"zero-shot-classification\", model=\"facebook/bart-large-mnli\")\n",
        "\n"
      ],
      "metadata": {
        "colab": {
          "base_uri": "https://localhost:8080/",
          "height": 313,
          "referenced_widgets": [
            "e323bd9dee384726aa2c84fd037737eb",
            "f90b109c54734ade9398eafc4f735884",
            "3f19787ccdca4f4ebeedb1d707cf604a",
            "399b655c107c47bdbc637907aee5a349",
            "56866b415e9f4fc3a0397c2f0ed5fddc",
            "14c2b39ea8374d3ba6d2aa636aeaf2ed",
            "0c0917444e61452198f0e4b3ee02efb6",
            "a7b3df5b82ac41b2ba876b8927202cf0",
            "9a0c46041fb449fc8022a774f9b92cec",
            "562121b1363d47458dfcc17d100bc70f",
            "2e30a9ab38854302969fa03885b8a3d0",
            "ff48d0b0b3844b0bb6ed76c80731bbe3",
            "be577270ae8e477e94a390f187b24940",
            "2fa8368164f44f0dbf715074e2ecfcd7",
            "bed76f6952244a0bb7173048cdafd8ae",
            "0bd84390e076440299075e252d05b082",
            "d99f6be6601b4620ba8f3d0c195728cc",
            "7b61e75e85a546acb31913e63726250d",
            "6cccb2e583664b58adaa3d0e1ca30fc8",
            "e793145b7eb24fdebb3afc8bf33f43c6",
            "17d982a4291e4c2d8d81ad5a7cd3b4cf",
            "402feaaa455247aa9baa91724ce979ab",
            "e14b992e71c74a78871c63607509d200",
            "23166fe07c1c470f9354b98b4460ee5d",
            "1134e62787c74095b7d48ef05d50e9a7",
            "f48f3ef80b3440f284441bb89c902fe7",
            "11638f2aeb3d4ffdad791c1edcceeb55",
            "eb0e63bd4ef34e7a8284697069312f76",
            "598a8602a6394f5e99044f582c3b5d46",
            "ae9bc9794895417bb68655914836f414",
            "2cdac0368b524e35a99c236c854a4834",
            "ca5cc300b65d433ebf54780d11fb75f4",
            "733928fd936448d5991b3c9ead000c9b",
            "e187f717e6de45eba62a771546603699",
            "0478ca8247fb495e9d19b11c77bcc698",
            "586e3e8dba594142b720baeb983801c6",
            "287cd457b9f94db08e9e935393139f5c",
            "dfdf03eb090646f2afcfd130db50aab8",
            "ebd6e4c968134d0ba86741c5645bd24b",
            "f72e5797e5184204a2097fe25853fd35",
            "658e3164088c4fb5afb9966372702231",
            "133067d3a72d4ba9bfe3d0902e3debf9",
            "a3b2aec865074976b281389909e56bf8",
            "248563ca55b74eb38964b65e4151d013",
            "1762c299c11f426cad1a6cdee1ebf92e",
            "d11c21b966084ebb92534680c5f3965d",
            "12a3faa33e9448339dceedb1ffe01bfc",
            "ad55c0354ebb41cf9b6b2ebd2b1a3e1e",
            "d7b8d0320062425882624b51f54f1e31",
            "25e3f761ea3b4d59a6c53701c48d4720",
            "69885f9767844df28c5c9de1eae72b13",
            "15a76b4660024d3c86abb9e5187f8315",
            "4411b71f2cea42e19b59128a799b6182",
            "4b741b49d6b34323af56f2d36c5c43c6",
            "3f6ce730d1c540b3a081d9e578d97f1e",
            "a5da73d898e840b3b1ffda0390425a72",
            "c019e3af238b4eff98f8c4d703dcfcc8",
            "f0866926dc4f4897a889e039e0d864a6",
            "2d140867649f4c048a937d9ec2e6826f",
            "578ec90913444bd8865ba7265988bf49",
            "3b795cff11984450aacc573320b00719",
            "442cb09424294104860f7962043097f3",
            "6db5473980494898931f644e5f2b55ed",
            "df79997cad494fbcbdd4732af8a66840",
            "203464e947164fe2a5b42d3e9e3bd5e7",
            "14dba17781704c9886f009857e9bd317"
          ]
        },
        "id": "85_BYYmMk3MS",
        "outputId": "98fea6fa-161c-424d-8a64-2c4067552c0b"
      },
      "execution_count": 10,
      "outputs": [
        {
          "output_type": "stream",
          "name": "stderr",
          "text": [
            "/usr/local/lib/python3.10/dist-packages/huggingface_hub/utils/_token.py:88: UserWarning: \n",
            "The secret `HF_TOKEN` does not exist in your Colab secrets.\n",
            "To authenticate with the Hugging Face Hub, create a token in your settings tab (https://huggingface.co/settings/tokens), set it as secret in your Google Colab and restart your session.\n",
            "You will be able to reuse this secret in all of your notebooks.\n",
            "Please note that authentication is recommended but still optional to access public models or datasets.\n",
            "  warnings.warn(\n"
          ]
        },
        {
          "output_type": "display_data",
          "data": {
            "text/plain": [
              "config.json:   0%|          | 0.00/1.15k [00:00<?, ?B/s]"
            ],
            "application/vnd.jupyter.widget-view+json": {
              "version_major": 2,
              "version_minor": 0,
              "model_id": "e323bd9dee384726aa2c84fd037737eb"
            }
          },
          "metadata": {}
        },
        {
          "output_type": "display_data",
          "data": {
            "text/plain": [
              "model.safetensors:   0%|          | 0.00/1.63G [00:00<?, ?B/s]"
            ],
            "application/vnd.jupyter.widget-view+json": {
              "version_major": 2,
              "version_minor": 0,
              "model_id": "ff48d0b0b3844b0bb6ed76c80731bbe3"
            }
          },
          "metadata": {}
        },
        {
          "output_type": "display_data",
          "data": {
            "text/plain": [
              "tokenizer_config.json:   0%|          | 0.00/26.0 [00:00<?, ?B/s]"
            ],
            "application/vnd.jupyter.widget-view+json": {
              "version_major": 2,
              "version_minor": 0,
              "model_id": "e14b992e71c74a78871c63607509d200"
            }
          },
          "metadata": {}
        },
        {
          "output_type": "display_data",
          "data": {
            "text/plain": [
              "vocab.json:   0%|          | 0.00/899k [00:00<?, ?B/s]"
            ],
            "application/vnd.jupyter.widget-view+json": {
              "version_major": 2,
              "version_minor": 0,
              "model_id": "e187f717e6de45eba62a771546603699"
            }
          },
          "metadata": {}
        },
        {
          "output_type": "display_data",
          "data": {
            "text/plain": [
              "merges.txt:   0%|          | 0.00/456k [00:00<?, ?B/s]"
            ],
            "application/vnd.jupyter.widget-view+json": {
              "version_major": 2,
              "version_minor": 0,
              "model_id": "1762c299c11f426cad1a6cdee1ebf92e"
            }
          },
          "metadata": {}
        },
        {
          "output_type": "display_data",
          "data": {
            "text/plain": [
              "tokenizer.json:   0%|          | 0.00/1.36M [00:00<?, ?B/s]"
            ],
            "application/vnd.jupyter.widget-view+json": {
              "version_major": 2,
              "version_minor": 0,
              "model_id": "a5da73d898e840b3b1ffda0390425a72"
            }
          },
          "metadata": {}
        }
      ]
    },
    {
      "cell_type": "markdown",
      "source": [
        "### Cell 3b. Data and candidate labels\n",
        "\n",
        "In order to perform classification we must nominate candidate labels for the model to choose between. In this scenario we have two labels, but you can choose as many labels as you need.\n",
        "\n",
        "Feel free to play round with the labels like:\n",
        "1. labels = [\"alcohol\", \"not alcohol\"]\n",
        "2.  labels = [\"booze\", \"power outage\"]\n",
        "3. labels = [\"A tweet about alcohol blackout\", \"A tweet about a power outage\"]\n",
        "\n",
        "You can also add your own examples. Try adding some tough ones like \"blackout\" or \"wow, full on blackout\". We also saw some posts that referenced an anger blackout (e.g., \"I was so mad I blacked out\"), you can add some of these examples and see how the model performs!"
      ],
      "metadata": {
        "id": "mpzIsrfVD4Xv"
      }
    },
    {
      "cell_type": "code",
      "source": [
        "# Here we give it some fake Tweets about blackouts!\n",
        "tweets = [\n",
        "    \"The city is experiencing a massive blackout. Neon lights are off.\",\n",
        "    \"I had too many beers last night and blacked out. I remember nothing.\",\n",
        "    \"The neon signs are all off due to the blackout.\",\n",
        "    \"Blacked out last night and lost my purse. Classic blackout RM\",\n",
        "    \"Get a research question or get out of the city that is experiencing blackouts\",\n",
        "    \"Every time I drink whiskey I blackout\",\n",
        "    \"The cybernetic implants are useless without power. Another blackout.\",\n",
        "    \"Having a cocktail at the club and now I'm blacking out\",\n",
        "    \"The blackout has made navigating the city a challenge, all the lights are off.\",\n",
        "    \"Drinking a vodka tonic is the best way to blackout.\",\n",
        "    \"blackout\",\n",
        "    \"Wow! Full blown blackout\"\n",
        "]\n",
        "\n",
        "# Define the candidate labels\n",
        "labels = [\"alcohol-related\", \"not alcohol-related\"]\n"
      ],
      "metadata": {
        "id": "eoDG4MCYofzC"
      },
      "execution_count": 59,
      "outputs": []
    },
    {
      "cell_type": "markdown",
      "source": [
        "### Cell 3c. Print the classifications\n",
        "\n",
        "Below we will print the tweet and the % in which the Tweet matches each of the categories \"alcohol-related\" or \"not alcohol-related\".\n",
        "\n",
        "The example below shows that the Tweet is 99.88% alcohol-related vs. 0.12% non-alcohol-related.\n",
        "\n",
        "* \"*Drinking a vodka tonic is the best way to blackout*\"\n",
        "\n",
        "**alcohol-related**: 0.9988\n",
        "\n",
        "**not alcohol-related**: 0.0012\n"
      ],
      "metadata": {
        "id": "AT_JV7Jd3Lkm"
      }
    },
    {
      "cell_type": "code",
      "source": [
        "# Perform zero-shot classification on each tweet\n",
        "for tweet in tweets:\n",
        "    print(f\"Analyzing tweet: {tweet}\")\n",
        "    result = classifier(tweet, labels)\n",
        "\n",
        "    # Print the results\n",
        "    for label, score in zip(result[\"labels\"], result[\"scores\"]):\n",
        "        print(f\"{label}: {score:.4f}\")\n",
        "    print(\"\\n\")"
      ],
      "metadata": {
        "colab": {
          "base_uri": "https://localhost:8080/"
        },
        "id": "oF3UyMWH3FIY",
        "outputId": "1eb8390d-3c6d-451e-cda4-ab0dc0886adf"
      },
      "execution_count": 60,
      "outputs": [
        {
          "output_type": "stream",
          "name": "stdout",
          "text": [
            "Analyzing tweet: The city is experiencing a massive blackout. Neon lights are off.\n",
            "not alcohol-related: 0.7896\n",
            "alcohol-related: 0.2104\n",
            "\n",
            "\n",
            "Analyzing tweet: I had too many beers last night and blacked out. I remember nothing.\n",
            "alcohol-related: 0.9977\n",
            "not alcohol-related: 0.0023\n",
            "\n",
            "\n",
            "Analyzing tweet: The neon signs are all off due to the blackout.\n",
            "alcohol-related: 0.6131\n",
            "not alcohol-related: 0.3869\n",
            "\n",
            "\n",
            "Analyzing tweet: Blacked out last night and lost my purse. Classic blackout RM\n",
            "alcohol-related: 0.9357\n",
            "not alcohol-related: 0.0643\n",
            "\n",
            "\n",
            "Analyzing tweet: Get a research question or get out of the city that is experiencing blackouts\n",
            "not alcohol-related: 0.7328\n",
            "alcohol-related: 0.2672\n",
            "\n",
            "\n",
            "Analyzing tweet: Every time I drink whiskey I blackout\n",
            "alcohol-related: 0.9971\n",
            "not alcohol-related: 0.0029\n",
            "\n",
            "\n",
            "Analyzing tweet: The cybernetic implants are useless without power. Another blackout.\n",
            "not alcohol-related: 0.8475\n",
            "alcohol-related: 0.1525\n",
            "\n",
            "\n",
            "Analyzing tweet: Having a cocktail at the club and now I'm blacking out\n",
            "alcohol-related: 0.9980\n",
            "not alcohol-related: 0.0020\n",
            "\n",
            "\n",
            "Analyzing tweet: The blackout has made navigating the city a challenge, all the lights are off.\n",
            "not alcohol-related: 0.6494\n",
            "alcohol-related: 0.3506\n",
            "\n",
            "\n",
            "Analyzing tweet: Drinking a vodka tonic is the best way to blackout.\n",
            "alcohol-related: 0.9988\n",
            "not alcohol-related: 0.0012\n",
            "\n",
            "\n",
            "Analyzing tweet: blackout\n",
            "not alcohol-related: 0.6951\n",
            "alcohol-related: 0.3049\n",
            "\n",
            "\n",
            "Analyzing tweet: Wow! Full blown blackout\n",
            "alcohol-related: 0.8276\n",
            "not alcohol-related: 0.1724\n",
            "\n",
            "\n"
          ]
        }
      ]
    },
    {
      "cell_type": "markdown",
      "source": [
        "### Cell 3d. Try your own text examples\n",
        "\n",
        "Now you can enter your own text and candidate labels to classify data.\n",
        "\n",
        "Pick a problem, like:\n",
        "\n",
        "1. In a large survey, participants were asked to write about why they drink alcohol. We want to classify their responses as either \"enhancement\", \"coping\", \"social\", or \"conformity\".\n",
        "2. We collectd all the Facebook posts that referenced the alcohol ban at the Paris olympics. we want to determine whether the poster thought \"the alcohol ban is good\", \"the alcohol ban is bad\", or \"the alcohol ban is neither good nor bad\".\n",
        "3. We collected some song lyrics and want to know what the sentiment is \"positive\", \"negative\" or \"neutral\".\n",
        "\n",
        "\n",
        "Just replace the \"tweets\" with some different examples. Change the \"labels\" to new labels and then click play!\n",
        "\n",
        "For the example below I have considered an entirely fictitious group of researchers who work together. Based on Tweets about them, they want to work out who is the coolest. It is pretty clear that the fictitious researcher named \"Ben\" is the coolest. But it is important we analyse social media posts to find out."
      ],
      "metadata": {
        "id": "oKHMIsAdCPZd"
      }
    },
    {
      "cell_type": "code",
      "source": [
        "# Note that this will only run if you have initialised the classifier in cell 3a. If you get an error, have a crack at running that cell and coming back to here.\n",
        "\n",
        "tweets = [\n",
        "    \"Ben is cooler than Jen\",\n",
        "    \"Jen is not as cool as Ben\",\n",
        "    \"Rose Marie is not nearly as cool as Ben\",\n",
        "    \"Ben is cooler than Rose Marie and Jen\",\n",
        "    \"I think my ranking is Ben is the coolest, then Rose Marie, then Jen? Or maybe Ben is the coolest, then Jen, then Rose Marie? Ben is definitely the coolest\",\n",
        "    \"I can't believe Ben would spend his Sunday writing these out. What a nerd. Jen and RM are far cooler\"\n",
        "]\n",
        "\n",
        "# Define the candidate labels\n",
        "labels = [\"Ben is the coolest\", \"Jen is the coolest\", \"Rose Marie is the coolest\"]\n",
        "\n",
        "# Perform zero-shot classification on each tweet\n",
        "for tweet in tweets:\n",
        "    print(f\"Analyzing tweet: {tweet}\")\n",
        "    result = classifier(tweet, labels)\n",
        "\n",
        "    # Print the results\n",
        "    for label, score in zip(result[\"labels\"], result[\"scores\"]):\n",
        "        print(f\"{label}: {score:.4f}\")\n",
        "    print(\"\\n\")"
      ],
      "metadata": {
        "colab": {
          "base_uri": "https://localhost:8080/"
        },
        "id": "feD3ZTZoCO4d",
        "outputId": "4904cddd-c4ea-48df-f3be-b99883cd80e0"
      },
      "execution_count": 11,
      "outputs": [
        {
          "output_type": "stream",
          "name": "stdout",
          "text": [
            "Analyzing tweet: Ben is cooler than Jen\n",
            "Ben is the coolest: 0.9676\n",
            "Jen is the coolest: 0.0269\n",
            "Rose Marie is the coolest: 0.0055\n",
            "\n",
            "\n",
            "Analyzing tweet: Jen is not as cool as Ben\n",
            "Ben is the coolest: 0.9603\n",
            "Jen is the coolest: 0.0365\n",
            "Rose Marie is the coolest: 0.0032\n",
            "\n",
            "\n",
            "Analyzing tweet: Rose Marie is not nearly as cool as Ben\n",
            "Ben is the coolest: 0.9667\n",
            "Rose Marie is the coolest: 0.0222\n",
            "Jen is the coolest: 0.0111\n",
            "\n",
            "\n",
            "Analyzing tweet: Ben is cooler than Rose Marie and Jen\n",
            "Ben is the coolest: 0.9786\n",
            "Rose Marie is the coolest: 0.0112\n",
            "Jen is the coolest: 0.0102\n",
            "\n",
            "\n",
            "Analyzing tweet: I think my ranking is Ben is the coolest, then Rose Marie, then Jen? Or maybe Ben is the coolest, then Jen, then Rose Marie? Ben is definitely the coolest\n",
            "Ben is the coolest: 0.9601\n",
            "Jen is the coolest: 0.0229\n",
            "Rose Marie is the coolest: 0.0170\n",
            "\n",
            "\n",
            "Analyzing tweet: I can't believe Ben would spend his Sunday writing these out. What a nerd. Jen and RM are far cooler\n",
            "Rose Marie is the coolest: 0.5791\n",
            "Jen is the coolest: 0.3939\n",
            "Ben is the coolest: 0.0270\n",
            "\n",
            "\n"
          ]
        }
      ]
    },
    {
      "cell_type": "markdown",
      "source": [
        "## Example 4. Zero-shot learning - Images\n",
        "\n",
        "Here we are going to use CLIP which has been trained on text-image pairs to identify what type of beverage is in an image. In this fictious example, participants were asked to take images of every drink they consumed daily. We want to know how many of these drinks were alcoholic and what type of alcoholic beverage."
      ],
      "metadata": {
        "id": "L_GUT06d2gU4"
      }
    },
    {
      "cell_type": "markdown",
      "source": [
        "<p align=\"center\">\n",
        "  <img src=\"https://drive.google.com/uc?export=view&id=1pRE38TwoG7F14ps89krTrBeu0zyV1nsW\" width=\"600\"\n",
        "  />\n",
        "</p>\n"
      ],
      "metadata": {
        "id": "VPMAHhvUosq7"
      }
    },
    {
      "cell_type": "markdown",
      "source": [
        "### Cell 4a. CLIP\n",
        "\n",
        "Here we are going to use CLIP which is trained on image and text pairs to determine whether alcohol is present or not."
      ],
      "metadata": {
        "id": "Yt77UkXvVe9C"
      }
    },
    {
      "cell_type": "code",
      "source": [
        "!pip install torch torchvision ftfy regex tqdm openai\n",
        "\n",
        "import torch # tools for deep learning models\n",
        "from PIL import Image # Python image library - image processing\n",
        "from torchvision.transforms import Compose, Resize, CenterCrop, ToTensor, Normalize # image transformations\n",
        "from transformers import CLIPProcessor, CLIPModel #preprocess text/images from CLIP\n",
        "import requests\n",
        "from io import BytesIO # loading image from urls\n",
        "\n",
        "# Load the model\n",
        "device = \"cuda\" if torch.cuda.is_available() else \"cpu\" # Selects best device to run the model\n",
        "model = CLIPModel.from_pretrained(\"openai/clip-vit-base-patch32\").to(device)\n",
        "processor = CLIPProcessor.from_pretrained(\"openai/clip-vit-base-patch32\")"
      ],
      "metadata": {
        "colab": {
          "base_uri": "https://localhost:8080/"
        },
        "id": "h4Fkv9hN35Gw",
        "outputId": "ebe27f90-f212-4177-9625-65a9cfe4103e"
      },
      "execution_count": 18,
      "outputs": [
        {
          "output_type": "stream",
          "name": "stdout",
          "text": [
            "Requirement already satisfied: torch in /usr/local/lib/python3.10/dist-packages (2.2.1+cu121)\n",
            "Requirement already satisfied: torchvision in /usr/local/lib/python3.10/dist-packages (0.17.1+cu121)\n",
            "Requirement already satisfied: ftfy in /usr/local/lib/python3.10/dist-packages (6.2.0)\n",
            "Requirement already satisfied: regex in /usr/local/lib/python3.10/dist-packages (2023.12.25)\n",
            "Requirement already satisfied: tqdm in /usr/local/lib/python3.10/dist-packages (4.66.4)\n",
            "Requirement already satisfied: openai in /usr/local/lib/python3.10/dist-packages (1.30.1)\n",
            "Requirement already satisfied: filelock in /usr/local/lib/python3.10/dist-packages (from torch) (3.14.0)\n",
            "Requirement already satisfied: typing-extensions>=4.8.0 in /usr/local/lib/python3.10/dist-packages (from torch) (4.11.0)\n",
            "Requirement already satisfied: sympy in /usr/local/lib/python3.10/dist-packages (from torch) (1.12)\n",
            "Requirement already satisfied: networkx in /usr/local/lib/python3.10/dist-packages (from torch) (3.3)\n",
            "Requirement already satisfied: jinja2 in /usr/local/lib/python3.10/dist-packages (from torch) (3.1.4)\n",
            "Requirement already satisfied: fsspec in /usr/local/lib/python3.10/dist-packages (from torch) (2023.6.0)\n",
            "Requirement already satisfied: nvidia-cuda-nvrtc-cu12==12.1.105 in /usr/local/lib/python3.10/dist-packages (from torch) (12.1.105)\n",
            "Requirement already satisfied: nvidia-cuda-runtime-cu12==12.1.105 in /usr/local/lib/python3.10/dist-packages (from torch) (12.1.105)\n",
            "Requirement already satisfied: nvidia-cuda-cupti-cu12==12.1.105 in /usr/local/lib/python3.10/dist-packages (from torch) (12.1.105)\n",
            "Requirement already satisfied: nvidia-cudnn-cu12==8.9.2.26 in /usr/local/lib/python3.10/dist-packages (from torch) (8.9.2.26)\n",
            "Requirement already satisfied: nvidia-cublas-cu12==12.1.3.1 in /usr/local/lib/python3.10/dist-packages (from torch) (12.1.3.1)\n",
            "Requirement already satisfied: nvidia-cufft-cu12==11.0.2.54 in /usr/local/lib/python3.10/dist-packages (from torch) (11.0.2.54)\n",
            "Requirement already satisfied: nvidia-curand-cu12==10.3.2.106 in /usr/local/lib/python3.10/dist-packages (from torch) (10.3.2.106)\n",
            "Requirement already satisfied: nvidia-cusolver-cu12==11.4.5.107 in /usr/local/lib/python3.10/dist-packages (from torch) (11.4.5.107)\n",
            "Requirement already satisfied: nvidia-cusparse-cu12==12.1.0.106 in /usr/local/lib/python3.10/dist-packages (from torch) (12.1.0.106)\n",
            "Requirement already satisfied: nvidia-nccl-cu12==2.19.3 in /usr/local/lib/python3.10/dist-packages (from torch) (2.19.3)\n",
            "Requirement already satisfied: nvidia-nvtx-cu12==12.1.105 in /usr/local/lib/python3.10/dist-packages (from torch) (12.1.105)\n",
            "Requirement already satisfied: triton==2.2.0 in /usr/local/lib/python3.10/dist-packages (from torch) (2.2.0)\n",
            "Requirement already satisfied: nvidia-nvjitlink-cu12 in /usr/local/lib/python3.10/dist-packages (from nvidia-cusolver-cu12==11.4.5.107->torch) (12.4.127)\n",
            "Requirement already satisfied: numpy in /usr/local/lib/python3.10/dist-packages (from torchvision) (1.25.2)\n",
            "Requirement already satisfied: pillow!=8.3.*,>=5.3.0 in /usr/local/lib/python3.10/dist-packages (from torchvision) (9.4.0)\n",
            "Requirement already satisfied: wcwidth<0.3.0,>=0.2.12 in /usr/local/lib/python3.10/dist-packages (from ftfy) (0.2.13)\n",
            "Requirement already satisfied: anyio<5,>=3.5.0 in /usr/local/lib/python3.10/dist-packages (from openai) (3.7.1)\n",
            "Requirement already satisfied: distro<2,>=1.7.0 in /usr/lib/python3/dist-packages (from openai) (1.7.0)\n",
            "Requirement already satisfied: httpx<1,>=0.23.0 in /usr/local/lib/python3.10/dist-packages (from openai) (0.27.0)\n",
            "Requirement already satisfied: pydantic<3,>=1.9.0 in /usr/local/lib/python3.10/dist-packages (from openai) (2.7.1)\n",
            "Requirement already satisfied: sniffio in /usr/local/lib/python3.10/dist-packages (from openai) (1.3.1)\n",
            "Requirement already satisfied: idna>=2.8 in /usr/local/lib/python3.10/dist-packages (from anyio<5,>=3.5.0->openai) (3.7)\n",
            "Requirement already satisfied: exceptiongroup in /usr/local/lib/python3.10/dist-packages (from anyio<5,>=3.5.0->openai) (1.2.1)\n",
            "Requirement already satisfied: certifi in /usr/local/lib/python3.10/dist-packages (from httpx<1,>=0.23.0->openai) (2024.2.2)\n",
            "Requirement already satisfied: httpcore==1.* in /usr/local/lib/python3.10/dist-packages (from httpx<1,>=0.23.0->openai) (1.0.5)\n",
            "Requirement already satisfied: h11<0.15,>=0.13 in /usr/local/lib/python3.10/dist-packages (from httpcore==1.*->httpx<1,>=0.23.0->openai) (0.14.0)\n",
            "Requirement already satisfied: annotated-types>=0.4.0 in /usr/local/lib/python3.10/dist-packages (from pydantic<3,>=1.9.0->openai) (0.6.0)\n",
            "Requirement already satisfied: pydantic-core==2.18.2 in /usr/local/lib/python3.10/dist-packages (from pydantic<3,>=1.9.0->openai) (2.18.2)\n",
            "Requirement already satisfied: MarkupSafe>=2.0 in /usr/local/lib/python3.10/dist-packages (from jinja2->torch) (2.1.5)\n",
            "Requirement already satisfied: mpmath>=0.19 in /usr/local/lib/python3.10/dist-packages (from sympy->torch) (1.3.0)\n"
          ]
        }
      ]
    },
    {
      "cell_type": "markdown",
      "source": [
        "### Cell 4b. Process the images and add the labels\n",
        "\n",
        "I have added 12 images on github. They are beautifully balanced, there are 3 Beer images, 3 Coffee images, 3 Tea images, and 3 wind images.We are going to load these images in just using the url of each of the images.\n",
        "\n",
        "The images look like this:"
      ],
      "metadata": {
        "id": "Hwj_6kmsudPP"
      }
    },
    {
      "cell_type": "markdown",
      "source": [
        "<p align=\"center\">\n",
        "  <img src=\"https://drive.google.com/uc?export=view&id=157AT1INfpPmvoduqnKTQsaQXgqAq3CMu\" width=\"600\"/>\n",
        "</p>\n"
      ],
      "metadata": {
        "id": "DeMx8ZBnK8qe"
      }
    },
    {
      "cell_type": "code",
      "source": [
        "# Transforms the images before feedinf them to the model (Centercrop crops the center part of the image; ToTensor converts the image to a multidimension aray)\n",
        "transform = Compose([\n",
        "    Resize(256, interpolation=Image.BICUBIC),\n",
        "    CenterCrop(224),\n",
        "    ToTensor()\n",
        "])\n",
        "\n",
        "# Images from Github repository - these were free from Pexels.\n",
        "image_urls = [\n",
        "    \"https://raw.githubusercontent.com/BenjaminRiordan/workshops-and-tutorials/main/KBS2024/images/BEER1.jpg\",\n",
        "    \"https://raw.githubusercontent.com/BenjaminRiordan/workshops-and-tutorials/main/KBS2024/images/BEER2.jpg\",\n",
        "    \"https://raw.githubusercontent.com/BenjaminRiordan/workshops-and-tutorials/main/KBS2024/images/BEER3.jpg\",\n",
        "    \"https://raw.githubusercontent.com/BenjaminRiordan/workshops-and-tutorials/main/KBS2024/images/COFFEE1.jpg\",\n",
        "    \"https://raw.githubusercontent.com/BenjaminRiordan/workshops-and-tutorials/main/KBS2024/images/COFFEE2.jpg\",\n",
        "    \"https://raw.githubusercontent.com/BenjaminRiordan/workshops-and-tutorials/main/KBS2024/images/COFFEE3.jpg\",\n",
        "    \"https://raw.githubusercontent.com/BenjaminRiordan/workshops-and-tutorials/main/KBS2024/images/TEA1.jpg\",\n",
        "    \"https://raw.githubusercontent.com/BenjaminRiordan/workshops-and-tutorials/main/KBS2024/images/TEA2.jpg\",\n",
        "    \"https://raw.githubusercontent.com/BenjaminRiordan/workshops-and-tutorials/main/KBS2024/images/TEA3.jpg\",\n",
        "    \"https://raw.githubusercontent.com/BenjaminRiordan/workshops-and-tutorials/main/KBS2024/images/WINE1.jpg\",\n",
        "    \"https://raw.githubusercontent.com/BenjaminRiordan/workshops-and-tutorials/main/KBS2024/images/WINE2.jpg\",\n",
        "    \"https://raw.githubusercontent.com/BenjaminRiordan/workshops-and-tutorials/main/KBS2024/images/WINE3.jpg\"\n",
        "]\n",
        "\n",
        "# Define the labels\n",
        "labels = [\"Beer\", \"Wine\", \"Coffee\", \"Tea\"]"
      ],
      "metadata": {
        "id": "22TH_hlR8tvU"
      },
      "execution_count": 29,
      "outputs": []
    },
    {
      "cell_type": "markdown",
      "source": [
        "### Cell 4c. Run the model and spit out the prediction for each image\n",
        "\n",
        "Here we are going to keep it really simple and just print the label of the image."
      ],
      "metadata": {
        "id": "rTvtra0cukcA"
      }
    },
    {
      "cell_type": "code",
      "source": [
        "# Perform zero-shot classification on each image\n",
        "for image_url in image_urls:\n",
        "    # Open and preprocess the image\n",
        "    image = transform(Image.open(BytesIO(requests.get(image_url).content))).unsqueeze(0).to(device)\n",
        "\n",
        "    # Compute the similarity between the image and the text descriptions\n",
        "    with torch.no_grad():\n",
        "        similarities = model.get_image_features(image) @ model.get_text_features(processor(labels, return_tensors=\"pt\", padding=True, truncation=True).to(device)[\"input_ids\"]).T\n",
        "\n",
        "    # Print the result with the highest similarity score\n",
        "    print(f\"Most likely label for {image_url}: {labels[similarities[0].topk(1).indices[0]]}\\n\")\n"
      ],
      "metadata": {
        "colab": {
          "base_uri": "https://localhost:8080/"
        },
        "id": "6CcJyNv8YHHc",
        "outputId": "a044ebc9-bcb9-4f68-b3e1-0893e3018684"
      },
      "execution_count": 26,
      "outputs": [
        {
          "output_type": "stream",
          "name": "stdout",
          "text": [
            "Most likely label for https://raw.githubusercontent.com/BenjaminRiordan/workshops-and-tutorials/main/KBS2024/images/BEER1.jpg: Beer\n",
            "\n",
            "Most likely label for https://raw.githubusercontent.com/BenjaminRiordan/workshops-and-tutorials/main/KBS2024/images/BEER2.jpg: Beer\n",
            "\n",
            "Most likely label for https://raw.githubusercontent.com/BenjaminRiordan/workshops-and-tutorials/main/KBS2024/images/BEER3.jpg: Beer\n",
            "\n",
            "Most likely label for https://raw.githubusercontent.com/BenjaminRiordan/workshops-and-tutorials/main/KBS2024/images/COFFEE1.jpg: Coffee\n",
            "\n",
            "Most likely label for https://raw.githubusercontent.com/BenjaminRiordan/workshops-and-tutorials/main/KBS2024/images/COFFEE2.jpg: Coffee\n",
            "\n",
            "Most likely label for https://raw.githubusercontent.com/BenjaminRiordan/workshops-and-tutorials/main/KBS2024/images/COFFEE3.jpg: Coffee\n",
            "\n",
            "Most likely label for https://raw.githubusercontent.com/BenjaminRiordan/workshops-and-tutorials/main/KBS2024/images/TEA1.jpg: Tea\n",
            "\n",
            "Most likely label for https://raw.githubusercontent.com/BenjaminRiordan/workshops-and-tutorials/main/KBS2024/images/TEA2.jpg: Coffee\n",
            "\n",
            "Most likely label for https://raw.githubusercontent.com/BenjaminRiordan/workshops-and-tutorials/main/KBS2024/images/TEA3.jpg: Coffee\n",
            "\n",
            "Most likely label for https://raw.githubusercontent.com/BenjaminRiordan/workshops-and-tutorials/main/KBS2024/images/WINE1.jpg: Wine\n",
            "\n",
            "Most likely label for https://raw.githubusercontent.com/BenjaminRiordan/workshops-and-tutorials/main/KBS2024/images/WINE2.jpg: Wine\n",
            "\n",
            "Most likely label for https://raw.githubusercontent.com/BenjaminRiordan/workshops-and-tutorials/main/KBS2024/images/WINE3.jpg: Wine\n",
            "\n",
            "Most likely label for https://raw.githubusercontent.com/BenjaminRiordan/workshops-and-tutorials/main/images/Alcohol%201.jpg: Beer\n",
            "\n",
            "Most likely label for https://raw.githubusercontent.com/BenjaminRiordan/workshops-and-tutorials/main/images/Alcohol%202.jpg: Beer\n",
            "\n",
            "Most likely label for https://github.com/BenjaminRiordan/workshops-and-tutorials/raw/main/images/No%20Alcohol%201.jpg: Coffee\n",
            "\n"
          ]
        }
      ]
    },
    {
      "cell_type": "markdown",
      "source": [
        "### Cell 4d prompt engineering\n",
        "\n",
        "Well, it sucked with tea. Why don't we use different prompts. CLIP is trained on more descritive phrases, so lets give that a crack.\n",
        "\n",
        "Holy poop. this example worked out far better than I could've ever imagined. Are you guys seeing this! The magic of phrase engineering!"
      ],
      "metadata": {
        "id": "QL4b_WGi-lkl"
      }
    },
    {
      "cell_type": "code",
      "source": [
        "# Define the labels\n",
        "labels = [\"An image of Beer\", \"An image of a glass of Wine\", \"An image of a cup of coffee\", \"An image of a cup of tea\"]\n",
        "\n",
        "# Perform zero-shot classification on each image\n",
        "for image_url in image_urls:\n",
        "    # Open and preprocess the image\n",
        "    image = transform(Image.open(BytesIO(requests.get(image_url).content))).unsqueeze(0).to(device)\n",
        "\n",
        "    # Compute the similarity between the image and the text descriptions\n",
        "    with torch.no_grad():\n",
        "        similarities = model.get_image_features(image) @ model.get_text_features(processor(labels, return_tensors=\"pt\", padding=True, truncation=True).to(device)[\"input_ids\"]).T\n",
        "\n",
        "    # Print the result with the highest similarity score\n",
        "    print(f\"Most likely label for {image_url}: {labels[similarities[0].topk(1).indices[0]]}\\n\")\n"
      ],
      "metadata": {
        "colab": {
          "base_uri": "https://localhost:8080/"
        },
        "id": "sHnD9XQW-lB0",
        "outputId": "356d96a4-da60-40ab-c30f-4003011b37b3"
      },
      "execution_count": 28,
      "outputs": [
        {
          "output_type": "stream",
          "name": "stdout",
          "text": [
            "Most likely label for https://raw.githubusercontent.com/BenjaminRiordan/workshops-and-tutorials/main/KBS2024/images/BEER1.jpg: An image of Beer\n",
            "\n",
            "Most likely label for https://raw.githubusercontent.com/BenjaminRiordan/workshops-and-tutorials/main/KBS2024/images/BEER2.jpg: An image of Beer\n",
            "\n",
            "Most likely label for https://raw.githubusercontent.com/BenjaminRiordan/workshops-and-tutorials/main/KBS2024/images/BEER3.jpg: An image of Beer\n",
            "\n",
            "Most likely label for https://raw.githubusercontent.com/BenjaminRiordan/workshops-and-tutorials/main/KBS2024/images/COFFEE1.jpg: An image of a cup of coffee\n",
            "\n",
            "Most likely label for https://raw.githubusercontent.com/BenjaminRiordan/workshops-and-tutorials/main/KBS2024/images/COFFEE2.jpg: An image of a cup of coffee\n",
            "\n",
            "Most likely label for https://raw.githubusercontent.com/BenjaminRiordan/workshops-and-tutorials/main/KBS2024/images/COFFEE3.jpg: An image of a cup of coffee\n",
            "\n",
            "Most likely label for https://raw.githubusercontent.com/BenjaminRiordan/workshops-and-tutorials/main/KBS2024/images/TEA1.jpg: An image of a cup of tea\n",
            "\n",
            "Most likely label for https://raw.githubusercontent.com/BenjaminRiordan/workshops-and-tutorials/main/KBS2024/images/TEA2.jpg: An image of a cup of tea\n",
            "\n",
            "Most likely label for https://raw.githubusercontent.com/BenjaminRiordan/workshops-and-tutorials/main/KBS2024/images/TEA3.jpg: An image of a cup of tea\n",
            "\n",
            "Most likely label for https://raw.githubusercontent.com/BenjaminRiordan/workshops-and-tutorials/main/KBS2024/images/WINE1.jpg: An image of a glass of Wine\n",
            "\n",
            "Most likely label for https://raw.githubusercontent.com/BenjaminRiordan/workshops-and-tutorials/main/KBS2024/images/WINE2.jpg: An image of a glass of Wine\n",
            "\n",
            "Most likely label for https://raw.githubusercontent.com/BenjaminRiordan/workshops-and-tutorials/main/KBS2024/images/WINE3.jpg: An image of a glass of Wine\n",
            "\n",
            "Most likely label for https://raw.githubusercontent.com/BenjaminRiordan/workshops-and-tutorials/main/images/Alcohol%201.jpg: An image of Beer\n",
            "\n",
            "Most likely label for https://raw.githubusercontent.com/BenjaminRiordan/workshops-and-tutorials/main/images/Alcohol%202.jpg: An image of Beer\n",
            "\n",
            "Most likely label for https://github.com/BenjaminRiordan/workshops-and-tutorials/raw/main/images/No%20Alcohol%201.jpg: An image of a cup of coffee\n",
            "\n"
          ]
        }
      ]
    },
    {
      "cell_type": "markdown",
      "source": [
        "\n",
        "<p align=\"center\">\n",
        "  <img src=\"https://drive.google.com/uc?export=view&id=1WU5Cg1yjUy-tJN2iWyRVFqypqf2URf6r\" width=\"600\"/>\n",
        "</p>"
      ],
      "metadata": {
        "id": "6vhWvBeIYoh0"
      }
    },
    {
      "cell_type": "markdown",
      "source": [
        "# **I NEED MORE**\n"
      ],
      "metadata": {
        "id": "JnixEJxbYcC0"
      }
    },
    {
      "cell_type": "markdown",
      "source": [
        "So you have made it to the end and feel unfulfilled.\n",
        "\n",
        "This was just a very very basic step through some models. We have some more fun tasks that are available with our paper. You can go play with that and classify examples of Tweets that are either pro, anti, or neutral legalising cannabis. It also has some pretty important steps that we haven't found time to cover like:\n",
        "\n",
        "1. how to read in a dataset like a .csv\n",
        "2. how to export the labelled dataset\n",
        "3. how to make a confusion matrix to report accuracy\n",
        "\n",
        "The paper is here and you can find a link to the colab notebook:\n",
        "\n",
        "Riordan B, Bonela AA, He Z, Nibali A, Anderson-Luxford D, Kuntsche E. How to apply zero-shot learning to text data in substance use research: An overview and tutorial with media data. Addiction. 2024; 119(5): 951–959. https://doi.org/10.1111/add.16427"
      ],
      "metadata": {
        "id": "GxOIwOJrYwxl"
      }
    },
    {
      "cell_type": "markdown",
      "source": [
        "# Funding\n",
        "\n",
        "I am sponsered by a Discovery Early Career Research Fellowship, which aims to use AI to better understand the link between exposure to alcohol and alcohol use.\n",
        "\n",
        "* The imitation game: The prevalence and impact of digital alcohol exposure in digital media. Australian Research Council Discovery Early Career Research Award. DE230100659\n",
        "\n",
        "For the ZSL text tutorials we have received funding from La Trobe University's School of Psychology and Public Health.\n",
        "\n",
        "* How to analyse images or videos using Zero Shot Learning: An overview and tutorial. La Trobe University SPPH Internal Grant Scheme, 2024.\n",
        "* More than just a chatbot: Assessing the performance and promise of large pre-trained models for zero-shot learning. La Trobe University SPPH Internal Grant Scheme, 2023\n",
        "\n"
      ],
      "metadata": {
        "id": "9T4rS-9o_vQ9"
      }
    }
  ]
}